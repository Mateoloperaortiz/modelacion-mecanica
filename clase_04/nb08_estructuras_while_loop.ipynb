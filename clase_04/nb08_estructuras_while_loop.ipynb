{
 "cells": [
  {
   "cell_type": "markdown",
   "metadata": {},
   "source": [
    "# Fundamentos de programación\n",
    "\n",
    "## Estructuras de Repetición (Ciclos)\n",
    "\n",
    "Otra operación frecuente en un programa es la ejecución repetitiva de un mismo bloque de código. Estas estructuras se denominan bucles, lazos, loops o ciclos y se usan de 2 formas dependiendo de si el numero de repeticiones es fijo o si estas dependen de condiciones que pueden cambiar dentro del ciclo."
   ]
  },
  {
   "cell_type": "markdown",
   "metadata": {},
   "source": [
    "### Ciclo While (o Hacer_mientras)\n",
    "\n",
    "Esta estructura el cuerpo del ciclo se repite siempre y cuando se satisfaga determinada condición, es decir el numero de repeticiones es variable. La condición siempre es evaluada al principio del ciclo por lo que esta debe ser verdadera justo antes de entrar al mismo de lo contrario este no se ejecutaría ni una sola vez. En la representación gráfica de la figura las acciones del ciclo solo se ejecutan de manera repetida si la condición representada en el rombo da un resultado positivo (True) y las iteraciones solo se detendrán cuando esta condición de un resultado negativo (False).\n",
    "\n",
    "\n",
    "\n",
    "<center><img src=\"./img/while_loop.png\" alt=\"files\" style=\"width:400px\"></center>\n"
   ]
  },
  {
   "cell_type": "markdown",
   "metadata": {},
   "source": [
    "<center><img src=\"./img/loop_while.png\" alt=\"files\" style=\"width:600px\"></center>"
   ]
  },
  {
   "cell_type": "markdown",
   "metadata": {},
   "source": [
    "### Ejemplo\n",
    "\n",
    "Para entender la necesidad de estas estructuras repetitivas consideremos un código que calcule la suma de $N$ numeros leidos del usuario. Si por ejemplo $N = 4$ entonces el código sería el siguiente."
   ]
  },
  {
   "cell_type": "code",
   "execution_count": null,
   "metadata": {},
   "outputs": [],
   "source": [
    "## suma = 0\n",
    "\n",
    "numero = int(input())\n",
    "suma = suma + numero\n",
    "\n",
    "numero = int(input())\n",
    "suma = suma + numero\n",
    "\n",
    "numero = int(input())\n",
    "suma = suma + numero\n",
    "\n",
    "numero = int(input())\n",
    "suma = suma + numero\n",
    "print('El valor de la suma es ' , suma)"
   ]
  },
  {
   "cell_type": "markdown",
   "metadata": {},
   "source": [
    "Si aumentaramos el valor de $N$ tendríamos que agregar mas repeticiones del mismo bloque de código hasta alcanzar $N$ lo cual lo haría un programa poco eficiente. Alternativamente, el problema lo podemos resolver usando la estructura `while`. En este caso utilizaremos la variable `icount` para contar el numéro de valores sumados y el ciclo se ejecutará siempre y cuando el valor almacenado en esta variable sea menor que $N$."
   ]
  },
  {
   "cell_type": "code",
   "execution_count": null,
   "metadata": {},
   "outputs": [],
   "source": [
    "suma = 0\n",
    "N = 4\n",
    "icount = 0\n",
    "while icount < N:\n",
    "    numero = int(input())\n",
    "    suma = suma + numero\n",
    "    icount = icount + 1\n",
    "print('El valor de la suma es ' , suma)"
   ]
  },
  {
   "cell_type": "markdown",
   "metadata": {},
   "source": [
    "### Ejemplo\n",
    "\n",
    "Escribir un algoritmo que calcule el área de una serie de circulos de radio creciente hasta que se exceda cierto valor límite $A_{max}$"
   ]
  },
  {
   "cell_type": "code",
   "execution_count": null,
   "metadata": {},
   "outputs": [],
   "source": [
    "ro   = 1.0\n",
    "dr = 0.5\n",
    "Amax = 100.0\n",
    "r = ro\n",
    "A = np.pi*ro**2\n",
    "while A < Amax:\n",
    "    print(A)\n",
    "    r = r + dr\n",
    "    A = np.pi*r**2    "
   ]
  },
  {
   "cell_type": "markdown",
   "metadata": {},
   "source": [
    "### Ejerecicios para la clase\n",
    "\n",
    "<div class=\"alert alert-success\">\n",
    "    \n",
    "Escribir programas para:\n",
    "\n",
    "(i) Contar desde 1 hasta N.\n",
    "\n",
    "(ii) Calcular las áreas de una serie de circulos de radio inicial $r_o$, radio final $r_f$ y decreciendo en $\\delta r.$\n",
    "\n",
    "(iii) Calcular la suma de una serie de numeros leidos del usuario y deternese si la suma supera cierto valor limite.\n",
    "\n",
    "(iv) Calcular la suma de una serie de numeros leidos del usuario pero detenerse si el numero a sumar es impar. (Nota: Usar el operador `%` para detectar si un numero es impar.)\n",
    "\n",
    "(v) Calcular la suma de una serie de numeros leidos del usuario pero detenerse si el total de la suma es impar. \n",
    "\n",
    "(vi) Calcular la resistencia promedio de una serie de cilindros probados en el laboratorio. Para terminar el proceso ingresar una resistencia igual a $-1$.\n",
    "\n",
    "(vii) Diseñar un algoritmo que recorra los numeros del 1 al 100 y escriba los que sean divisibles por 5.\n",
    "\n",
    "(viii) Repetir el algoritmo anterior pero ahora haciendo que este indique si el numero actual no es divisible por 5.\n",
    "\n",
    "</div>"
   ]
  },
  {
   "cell_type": "code",
   "execution_count": null,
   "metadata": {},
   "outputs": [],
   "source": [
    "suma = 0\n",
    "cond = True\n",
    "while cond:\n",
    "    numero = int(input())\n",
    "    if numero%2 == 0:\n",
    "        suma = suma + numero\n",
    "    else:\n",
    "        cond = False\n",
    "print('El valor de la suma es ' , suma)"
   ]
  },
  {
   "cell_type": "code",
   "execution_count": null,
   "metadata": {},
   "outputs": [],
   "source": [
    "suma = 0\n",
    "cond = True\n",
    "while cond:\n",
    "    numero = int(input())\n",
    "    if numero != -1:\n",
    "        suma = suma + numero\n",
    "    else:\n",
    "        cond = False\n",
    "print('El valor de la suma es ' , suma)"
   ]
  },
  {
   "cell_type": "markdown",
   "metadata": {},
   "source": [
    "### Ciclo Until (o Hacer_hasta)\n",
    "\n",
    "En esta estructura el cuerpo del ciclo se repite mientras se satisfaga determinada condición pero en este caso la condición siempre es evaluada al final del ciclo por lo tanto este se ejecuta al menos una vez. **(este ciclo no existe en Python)**\n",
    "\n",
    "\n",
    "\n",
    "<center><img src=\"./img/until_loop.png\" alt=\"files\" style=\"width:300px\"></center>\n"
   ]
  },
  {
   "cell_type": "code",
   "execution_count": 3,
   "metadata": {},
   "outputs": [
    {
     "data": {
      "text/html": [
       "<link href=\"https://fonts.googleapis.com/css?family=Merriweather:300,300i,400,400i,700,700i,900,900i\" rel='stylesheet' >\n",
       "<link href=\"https://fonts.googleapis.com/css?family=Source+Sans+Pro:300,300i,400,400i,700,700i\" rel='stylesheet' >\n",
       "<link href='http://fonts.googleapis.com/css?family=Source+Code+Pro:300,400' rel='stylesheet' >\n",
       "<style>\n",
       "\n",
       "@font-face {\n",
       "    font-family: \"Computer Modern\";\n",
       "    src: url('http://mirrors.ctan.org/fonts/cm-unicode/fonts/otf/cmunss.otf');\n",
       "}\n",
       "\n",
       "\n",
       "#notebook_panel { /* main background */\n",
       "    background: rgb(245,245,245);\n",
       "}\n",
       "\n",
       "div.cell { /* set cell width */\n",
       "    width: 800px;\n",
       "}\n",
       "\n",
       "div #notebook { /* centre the content */\n",
       "    background: #fff; /* white background for content */\n",
       "    width: 1000px;\n",
       "    margin: auto;\n",
       "    padding-left: 0em;\n",
       "}\n",
       "\n",
       "#notebook li { /* More space between bullet points */\n",
       "margin-top:0.5em;\n",
       "}\n",
       "\n",
       "/* draw border around running cells */\n",
       "div.cell.border-box-sizing.code_cell.running { \n",
       "    border: 1px solid #111;\n",
       "}\n",
       "\n",
       "/* Put a solid color box around each cell and its output, visually linking them*/\n",
       "div.cell.code_cell {\n",
       "    background-color: rgb(256,256,256); \n",
       "    border-radius: 0px; \n",
       "    padding: 0.5em;\n",
       "    margin-left:1em;\n",
       "    margin-top: 1em;\n",
       "}\n",
       "\n",
       "\n",
       "div.text_cell_render{\n",
       "    font-family: 'Source Sans Pro', sans-serif;\n",
       "    line-height: 140%;\n",
       "    font-size: 110%;\n",
       "    width:680px;\n",
       "    margin-left:auto;\n",
       "    margin-right:auto;\n",
       "}\n",
       "\n",
       "/* Formatting for header cells */\n",
       ".text_cell_render h1 {\n",
       "    font-family: 'Merriweather', serif;\n",
       "    font-style:regular;\n",
       "    font-weight: bold;    \n",
       "    font-size: 250%;\n",
       "    line-height: 100%;\n",
       "    color: #004065;\n",
       "    margin-bottom: 1em;\n",
       "    margin-top: 0.5em;\n",
       "    display: block;\n",
       "}\t\n",
       ".text_cell_render h2 {\n",
       "    font-family: 'Merriweather', serif;\n",
       "    font-weight: bold; \n",
       "    font-size: 180%;\n",
       "    line-height: 100%;\n",
       "    color: #0096d6;\n",
       "    margin-bottom: 0.5em;\n",
       "    margin-top: 0.5em;\n",
       "    display: block;\n",
       "}\t\n",
       "\n",
       ".text_cell_render h3 {\n",
       "    font-family: 'Merriweather', serif;\n",
       "\tfont-size: 150%;\n",
       "    margin-top:12px;\n",
       "    margin-bottom: 3px;\n",
       "    font-style: regular;\n",
       "    color: #008367;\n",
       "}\n",
       "\n",
       ".text_cell_render h4 {    /*Use this for captions*/\n",
       "    font-family: 'Merriweather', serif;\n",
       "    font-weight: 300; \n",
       "    font-size: 100%;\n",
       "    line-height: 120%;\n",
       "    text-align: left;\n",
       "    width:500px;\n",
       "    margin-top: 1em;\n",
       "    margin-bottom: 2em;\n",
       "    margin-left: 80pt;\n",
       "    font-style: regular;\n",
       "}\n",
       "\n",
       ".text_cell_render h5 {  /*Use this for small titles*/\n",
       "    font-family: 'Source Sans Pro', sans-serif;\n",
       "    font-weight: regular;\n",
       "    font-size: 130%;\n",
       "    color: #e31937;\n",
       "    font-style: italic;\n",
       "    margin-bottom: .5em;\n",
       "    margin-top: 1em;\n",
       "    display: block;\n",
       "}\n",
       "\n",
       ".text_cell_render h6 { /*use this for copyright note*/\n",
       "    font-family: 'Source Code Pro', sans-serif;\n",
       "    font-weight: 300;\n",
       "    font-size: 9pt;\n",
       "    line-height: 100%;\n",
       "    color: grey;\n",
       "    margin-bottom: 1px;\n",
       "    margin-top: 1px;\n",
       "}\n",
       "\n",
       "    .CodeMirror{\n",
       "            font-family: \"Source Code Pro\";\n",
       "\t\t\tfont-size: 90%;\n",
       "    }\n",
       "/*    .prompt{\n",
       "        display: None;\n",
       "    }*/\n",
       "\t\n",
       "    \n",
       "    .warning{\n",
       "        color: rgb( 240, 20, 20 )\n",
       "        }  \n",
       "</style>\n",
       "<script>\n",
       "    MathJax.Hub.Config({\n",
       "                        TeX: {\n",
       "                           extensions: [\"AMSmath.js\"], \n",
       "                           equationNumbers: { autoNumber: \"AMS\", useLabelIds: true}\n",
       "                           },\n",
       "                tex2jax: {\n",
       "                    inlineMath: [ ['$','$'], [\"\\\\(\",\"\\\\)\"] ],\n",
       "                    displayMath: [ ['$$','$$'], [\"\\\\[\",\"\\\\]\"] ]\n",
       "                },\n",
       "                displayAlign: 'center', // Change this to 'center' to center equations.\n",
       "                \"HTML-CSS\": {\n",
       "                    styles: {'.MathJax_Display': {\"margin\": 4}}\n",
       "                }\n",
       "        });\n",
       "</script>\n"
      ],
      "text/plain": [
       "<IPython.core.display.HTML object>"
      ]
     },
     "execution_count": 3,
     "metadata": {},
     "output_type": "execute_result"
    }
   ],
   "source": [
    "from IPython.core.display import HTML\n",
    "css_file = 'estilo.css'\n",
    "HTML(open(css_file, \"r\").read())"
   ]
  },
  {
   "cell_type": "code",
   "execution_count": null,
   "metadata": {},
   "outputs": [],
   "source": []
  }
 ],
 "metadata": {
  "kernelspec": {
   "display_name": "Python 3",
   "language": "python",
   "name": "python3"
  },
  "language_info": {
   "codemirror_mode": {
    "name": "ipython",
    "version": 3
   },
   "file_extension": ".py",
   "mimetype": "text/x-python",
   "name": "python",
   "nbconvert_exporter": "python",
   "pygments_lexer": "ipython3",
   "version": "3.7.1"
  }
 },
 "nbformat": 4,
 "nbformat_minor": 2
}
