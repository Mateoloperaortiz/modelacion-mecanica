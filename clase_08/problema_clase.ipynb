{
 "cells": [
  {
   "cell_type": "markdown",
   "source": [
    "# Sistema masas-resortes\n"
   ],
   "metadata": {}
  },
  {
   "cell_type": "markdown",
   "source": [
    "### Introducción\n",
    "\n",
    "El problema mecánico mas simple, y que a la vez sirve como prototipo a problemas complejos como el de estructuras reticulares abordadas por el método de rigidez o a problemas del continuo resueltos por el método de los elementos finitos, es el de un sistema de masas acopladas por resortes y sometidas a la acción de fuerzas externas."
   ],
   "metadata": {}
  },
  {
   "cell_type": "markdown",
   "source": [
    "<center><img src=\"img/spring_system.png\" alt=\"files\" style=\"width:300px\"></center>"
   ],
   "metadata": {}
  },
  {
   "cell_type": "markdown",
   "source": [
    "Para resolver el sistema se proponen los diagramas de cuerpo libre de cada masa considerando las fuerzas ejercidas por cada uno de los resortes correspondientes. El sistema de ecuaciones del sistema en términos de fuerzas resulta ser indeterminado toda vez que se tendrán mas incogitas que ecuaciones. Para destruir esta indeterminación las fuerzas de cada resorte se escriben en términos de los desplazamientos de cada extremo utilizando las ecuaciones fuerza-desplazamiento escritas matricialmente como:\n",
    "\n",
    "\n",
    "<center><img src=\"img/elemento.png\" alt=\"files\" style=\"width:300px\"></center>\n",
    "\n",
    "\n",
    "$$\n",
    "    \\begin{Bmatrix}\n",
    "        f_1\\\\\n",
    "        f_2\n",
    "    \\end{Bmatrix} =\n",
    "    K\\begin{bmatrix}\n",
    "          1.0 & -1.0\\\\\n",
    "        - 1.0 & 1.0\n",
    "    \\end{bmatrix}\n",
    "    \\begin{Bmatrix}\n",
    "        u_1\\\\\n",
    "        u_2\n",
    "    \\end{Bmatrix}\n",
    "$$\n",
    "\n",
    "\n",
    "En este notebook extenderemos el algoritmo de ensamblaje de ecuaciones de equilibrio global y resolveremos el problema completo. Además realizaremos algunas actividades que ayuden a asimilar los procedimientos asociados al ensamblaje de matrices globales."
   ],
   "metadata": {}
  },
  {
   "cell_type": "code",
   "execution_count": 1,
   "source": [
    "import numpy as np\n",
    "import matplotlib.pyplot as plt"
   ],
   "outputs": [],
   "metadata": {}
  },
  {
   "cell_type": "markdown",
   "source": [
    "<div class=\"alert alert-success\">\n",
    "    \n",
    "Complete esta rutina para que reciba como entrada el coeficiente de rigidez de un resorte y entregue como salida la matriz de rigidez del resorte.\n",
    "\n",
    "</div>\n",
    "\n"
   ],
   "metadata": {}
  },
  {
   "cell_type": "code",
   "execution_count": 2,
   "source": [
    "def uel(k):\n",
    "    \n",
    "        \n",
    "    return kl"
   ],
   "outputs": [],
   "metadata": {}
  },
  {
   "cell_type": "markdown",
   "source": [
    "<div class=\"alert alert-success\">\n",
    "    \n",
    "Convierta su código de ensamblaje (correspondiente al punto 1 de la tarea 1) en una función que reciba como paramétros de entrada:\n",
    "\n",
    "* (i) el numero de elementos a ensamblar $numel$\n",
    "\n",
    "* (ii) la matriz indicadora de ecuaciones $MIE()$\n",
    "\n",
    "* (iii) el numero total de ecuaciones $neq$\n",
    "\n",
    "* (iv) un arreglo con los coeficinetes de rigidez para cada resorte\n",
    "\n",
    "y que entregue como resultado la matriz de rigidez global $K_G$.\n",
    "\n",
    "</div>\n",
    "\n"
   ],
   "metadata": {}
  },
  {
   "cell_type": "code",
   "execution_count": 3,
   "source": [
    "def assembly():\n",
    "        \n",
    "    return KG"
   ],
   "outputs": [],
   "metadata": {}
  },
  {
   "cell_type": "markdown",
   "source": [
    "<div class=\"alert alert-success\">\n",
    "    \n",
    "La función `solve` del modulo de algebra lineal `linalg` de `numpy` permite resolver sistemas de ecuaciones lineales de la forma:\n",
    "\n",
    "$$[K_G]U = F$$\n",
    "\n",
    "donde $U$ es un vector de incognitas, $F$ es el vector de terminos conocidos y $[K_G]$ es la matriz de coeficientes. El llamado a la función es de la forma:\n",
    "\n",
    "`U = np.linalg.solve(KG, F)`\n",
    "\n",
    "Formule un sistema simple de masas-resortes sometido a fuerzas externas y resuelvalo con la función `linalg`. Para resolver el problema genere la matriz de coeficientes con la rutina de ensamblaje. Los vectores de fuerzas y de coeficientes de resorte, así como la matriz indicadora de ecuaciones los puede crear directamente en el código.\n",
    "\n",
    "</div>"
   ],
   "metadata": {}
  },
  {
   "cell_type": "code",
   "execution_count": null,
   "source": [],
   "outputs": [],
   "metadata": {}
  },
  {
   "cell_type": "markdown",
   "source": [
    "Resolvemos el sistema de ecuaciones"
   ],
   "metadata": {}
  },
  {
   "cell_type": "code",
   "execution_count": null,
   "source": [],
   "outputs": [],
   "metadata": {}
  },
  {
   "cell_type": "markdown",
   "source": [
    "## Problemas para la clase."
   ],
   "metadata": {}
  },
  {
   "cell_type": "markdown",
   "source": [
    "<div class=\"alert alert-success\">\n",
    "\n",
    "\n",
    "### Problema 1: Ensamblaje\n",
    "\n",
    "* Enumere las \"masas\" (o desplazamientos globales). En los puntos correspondientes a una restricción asigne el identificador -1.\n",
    "\n",
    "* Escriba la matriz indicadora de ecuaciones `MIE()`.\n",
    "\n",
    "* En una hoja de papel esquematice la estructura de la matriz global.\n",
    "\n",
    "* Verifique su respuesta al numeral anterior visualizando la matriz global calcualda con el programa y comente sus resultados.\n",
    "\n",
    "</div>\n",
    "\n"
   ],
   "metadata": {}
  },
  {
   "cell_type": "markdown",
   "source": [
    "<center><img src=\"img/resortes.png\" alt=\"files\" style=\"width:500px\"></center>"
   ],
   "metadata": {}
  },
  {
   "cell_type": "markdown",
   "source": [
    "<div class=\"alert alert-success\">\n",
    "    \n",
    "### Problema 2: Ensamblaje inverso\n",
    "\n",
    "Para cada uno de las siguientes matrices proponga un sistema de resortes valido:\n",
    "\n",
    "$$ {MIE} = \\left[ {\\begin{array}{*{20}{c}}\n",
    "0&1\\\\\n",
    "{1}&-1\\\\\n",
    "\\end{array}} \\right]$$\n",
    "\n",
    "\n",
    "$$ {MIE} = \\left[ {\\begin{array}{*{20}{c}}\n",
    "0&1\\\\\n",
    "{1}&2\\\\\n",
    "{0}&1\\\\\n",
    "\\end{array}} \\right]$$\n",
    "\n",
    "</div>"
   ],
   "metadata": {}
  },
  {
   "cell_type": "markdown",
   "source": [
    "<div class=\"alert alert-success\">\n",
    "\n",
    "### Problema 3: Sistemas equivalentes\n",
    "\n",
    "Utilizando las expresiones para resortes equivalntes en sistemas en serie y en paralelo dadas por:\n",
    "\n",
    "$$\\frac{1}{{{k_{eff}}}} = \\frac{1}{{{k_1}}} + \\frac{1}{{{k_2}}}$$\n",
    "\n",
    "y\n",
    "\n",
    "$${k_{eff}} = {k_1} + {k_2}$$\n",
    "\n",
    "respectivamente, determinar el sistema equivalente compuesto por un solo resorte en cada uno de los sistemas de la figura. Verifique sus resultados resolviendo ambos sistemas con el programa.\n",
    "\n",
    "<center><img src=\"img/resortes.png\" alt=\"files\" style=\"width:500px\"></center>\n",
    "\n",
    "\n",
    "\n",
    "</div>"
   ],
   "metadata": {}
  },
  {
   "cell_type": "code",
   "execution_count": 4,
   "source": [
    "# Execute this cell to load the notebook's style sheet, then ignore it\n",
    "from IPython.core.display import HTML\n",
    "css_file = 'estilo.css'\n",
    "HTML(open(css_file, \"r\").read())"
   ],
   "outputs": [
    {
     "output_type": "error",
     "ename": "FileNotFoundError",
     "evalue": "[Errno 2] No such file or directory: 'estilo.css'",
     "traceback": [
      "\u001b[0;31m---------------------------------------------------------------------------\u001b[0m",
      "\u001b[0;31mFileNotFoundError\u001b[0m                         Traceback (most recent call last)",
      "\u001b[0;32m<ipython-input-4-8dcf329fe4f5>\u001b[0m in \u001b[0;36m<module>\u001b[0;34m\u001b[0m\n\u001b[1;32m      2\u001b[0m \u001b[0;32mfrom\u001b[0m \u001b[0mIPython\u001b[0m\u001b[0;34m.\u001b[0m\u001b[0mcore\u001b[0m\u001b[0;34m.\u001b[0m\u001b[0mdisplay\u001b[0m \u001b[0;32mimport\u001b[0m \u001b[0mHTML\u001b[0m\u001b[0;34m\u001b[0m\u001b[0;34m\u001b[0m\u001b[0m\n\u001b[1;32m      3\u001b[0m \u001b[0mcss_file\u001b[0m \u001b[0;34m=\u001b[0m \u001b[0;34m'estilo.css'\u001b[0m\u001b[0;34m\u001b[0m\u001b[0;34m\u001b[0m\u001b[0m\n\u001b[0;32m----> 4\u001b[0;31m \u001b[0mHTML\u001b[0m\u001b[0;34m(\u001b[0m\u001b[0mopen\u001b[0m\u001b[0;34m(\u001b[0m\u001b[0mcss_file\u001b[0m\u001b[0;34m,\u001b[0m \u001b[0;34m\"r\"\u001b[0m\u001b[0;34m)\u001b[0m\u001b[0;34m.\u001b[0m\u001b[0mread\u001b[0m\u001b[0;34m(\u001b[0m\u001b[0;34m)\u001b[0m\u001b[0;34m)\u001b[0m\u001b[0;34m\u001b[0m\u001b[0;34m\u001b[0m\u001b[0m\n\u001b[0m",
      "\u001b[0;31mFileNotFoundError\u001b[0m: [Errno 2] No such file or directory: 'estilo.css'"
     ]
    }
   ],
   "metadata": {}
  },
  {
   "cell_type": "code",
   "execution_count": null,
   "source": [],
   "outputs": [],
   "metadata": {}
  }
 ],
 "metadata": {
  "kernelspec": {
   "name": "python3",
   "display_name": "Python 3.8.8 64-bit"
  },
  "language_info": {
   "name": "python",
   "version": "3.8.8",
   "mimetype": "text/x-python",
   "codemirror_mode": {
    "name": "ipython",
    "version": 3
   },
   "pygments_lexer": "ipython3",
   "nbconvert_exporter": "python",
   "file_extension": ".py"
  },
  "widgets": {
   "state": {},
   "version": "1.1.2"
  },
  "interpreter": {
   "hash": "dca0ade3e726a953b501b15e8e990130d2b7799f14cfd9f4271676035ebe5511"
  }
 },
 "nbformat": 4,
 "nbformat_minor": 2
}