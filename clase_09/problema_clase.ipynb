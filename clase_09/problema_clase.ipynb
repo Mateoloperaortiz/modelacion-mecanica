{
 "cells": [
  {
   "cell_type": "markdown",
   "metadata": {},
   "source": [
    "# Sistema masas-resortes\n"
   ]
  },
  {
   "cell_type": "markdown",
   "metadata": {},
   "source": [
    "### Introducción\n",
    "\n",
    "El problema mecánico mas simple, y que a la vez sirve como prototipo a problemas complejos como el de estructuras reticulares abordadas por el método de rigidez o a problemas del continuo resueltos por el método de los elementos finitos, es el de un sistema de masas acopladas por resortes y sometidas a la acción de fuerzas externas."
   ]
  },
  {
   "cell_type": "markdown",
   "metadata": {},
   "source": [
    "<center><img src=\"img/spring_system.png\" alt=\"files\" style=\"width:300px\"></center>"
   ]
  },
  {
   "cell_type": "markdown",
   "metadata": {},
   "source": [
    "Para resolver el sistema se proponen los diagramas de cuerpo libre de cada masa considerando las fuerzas ejercidas por cada uno de los resortes correspondientes. El sistema de ecuaciones del sistema en términos de fuerzas resulta ser indeterminado toda vez que se tendrán mas incogitas que ecuaciones. Para destruir esta indeterminación las fuerzas de cada resorte se escriben en términos de los desplazamientos de cada extremo utilizando las ecuaciones fuerza-desplazamiento escritas matricialmente como:\n",
    "\n",
    "\n",
    "<center><img src=\"img/elemento.png\" alt=\"files\" style=\"width:300px\"></center>\n",
    "\n",
    "\n",
    "$$\n",
    "    \\begin{Bmatrix}\n",
    "        f_1\\\\\n",
    "        f_2\n",
    "    \\end{Bmatrix} =\n",
    "    K\\begin{bmatrix}\n",
    "          1.0 & -1.0\\\\\n",
    "        - 1.0 & 1.0\n",
    "    \\end{bmatrix}\n",
    "    \\begin{Bmatrix}\n",
    "        u_1\\\\\n",
    "        u_2\n",
    "    \\end{Bmatrix}\n",
    "$$\n",
    "\n",
    "\n",
    "En este notebook extenderemos el algoritmo de ensamblaje de ecuaciones de equilibrio global y resolveremos el problema completo. Además realizaremos algunas actividades que ayuden a asimilar los procedimientos asociados al ensamblaje de matrices globales."
   ]
  },
  {
   "cell_type": "code",
   "execution_count": 1,
   "metadata": {},
   "outputs": [],
   "source": [
    "import numpy as np\n",
    "import matplotlib.pyplot as plt"
   ]
  },
  {
   "cell_type": "markdown",
   "metadata": {},
   "source": [
    "<div class=\"alert alert-success\">\n",
    "    \n",
    "Complete esta rutina para que reciba como entrada el coeficiente de rigidez de un resorte y entregue como salida la matriz de rigidez del resorte.\n",
    "\n",
    "</div>\n",
    "\n"
   ]
  },
  {
   "cell_type": "code",
   "execution_count": 2,
   "metadata": {},
   "outputs": [],
   "source": [
    "def uel(k):\n",
    "    \n",
    "    kl = np.zeros([2 , 2])\n",
    "    kl[0,0] = k\n",
    "    kl[0,1] =-k\n",
    "    kl[1,0] =-k\n",
    "    kl[1,1] = k\n",
    "        \n",
    "    return kl"
   ]
  },
  {
   "cell_type": "markdown",
   "metadata": {},
   "source": [
    "<div class=\"alert alert-success\">\n",
    "    \n",
    "Convierta su código de ensamblaje (correspondiente al punto 1 de la tarea 1) en una función que reciba como paramétros de entrada:\n",
    "\n",
    "* (i) el numero de elementos a ensamblar $numel$\n",
    "\n",
    "* (ii) la matriz indicadora de ecuaciones $MIE()$\n",
    "\n",
    "* (iii) el numero total de ecuaciones $neq$\n",
    "\n",
    "* (iv) un arreglo con los coeficinetes de rigidez para cada resorte\n",
    "\n",
    "y que entregue como resultado la matriz de rigidez global $K_G$.\n",
    "\n",
    "</div>\n",
    "\n"
   ]
  },
  {
   "cell_type": "code",
   "execution_count": 12,
   "metadata": {},
   "outputs": [],
   "source": [
    "def assembly(MIE , mats , numel , neq):\n",
    "    \n",
    "    KG = np.zeros([neq , neq] , dtype = float)\n",
    "    mie = np.zeros([2] , dtype = int)\n",
    "    \n",
    "    ndof  = 2\n",
    "    for i in range(numel):  # recorre los elementos\n",
    "        k = mats[i]\n",
    "        kl = uel(k)\n",
    "        mie[:] = MIE[i , :]\n",
    "        for irow in range(ndof):\n",
    "            row = mie[irow]\n",
    "            if row != -1:\n",
    "                for icol in range(ndof):\n",
    "                    col = mie[icol]\n",
    "                    if col != -1:\n",
    "                        KG[row , col] = KG[row , col] + kl[irow , icol]\n",
    "\n",
    "    \n",
    "    return KG"
   ]
  },
  {
   "cell_type": "markdown",
   "metadata": {},
   "source": [
    "<div class=\"alert alert-success\">\n",
    "    \n",
    "La función `solve` del modulo de algebra lineal `linalg` de `numpy` permite resolver sistemas de ecuaciones lineales de la forma:\n",
    "\n",
    "$$[K_G]U = F$$\n",
    "\n",
    "donde $U$ es un vector de incognitas, $F$ es el vector de terminos conocidos y $[K_G]$ es la matriz de coeficientes. El llamado a la función es de la forma:\n",
    "\n",
    "`U = np.linalg.solve(KG, F)`\n",
    "\n",
    "Formule un sistema simple de masas-resortes sometido a fuerzas externas y resuelvalo con la función `linalg`. Para resolver el problema genere la matriz de coeficientes con la rutina de ensamblaje. Los vectores de fuerzas y de coeficientes de resorte, así como la matriz indicadora de ecuaciones los puede crear directamente en el código.\n",
    "\n",
    "</div>"
   ]
  },
  {
   "cell_type": "code",
   "execution_count": 13,
   "metadata": {},
   "outputs": [
    {
     "data": {
      "text/plain": [
       "<matplotlib.image.AxesImage at 0x11fc0d5c0>"
      ]
     },
     "execution_count": 13,
     "metadata": {},
     "output_type": "execute_result"
    },
    {
     "data": {
      "image/png": "[encoded data removed]",
      "text/plain": [
       "<Figure size 432x288 with 1 Axes>"
      ]
     },
     "metadata": {
      "needs_background": "light"
     },
     "output_type": "display_data"
    }
   ],
   "source": [
    "MIE = np.array([[-1 , 0],\n",
    "                [ 0 ,  1],\n",
    "                [ 1 ,  2],\n",
    "                [ 2 ,  3]])\n",
    "mats = np.array([ 1.0 , 2.0 , 1.0 , 3.0])  # Coeficientes de rigidez de cada resorte\n",
    "F    = np.array([ 1.0 , 1.0 , 0.0 , 0.0])  # Vector de fuerzas aplicadas sobre las masas\n",
    "#\n",
    "numel = 4                      # Numero de resortes (elementos) en el sistema\n",
    "neq   = 4                      # Numero de ecuaciones (grados de lbertad) del sistema\n",
    "#\n",
    "KG = assembly(MIE , mats , numel , neq)   # Ensamblaje de la matriz global\n",
    "plt.spy(KG)"
   ]
  },
  {
   "cell_type": "markdown",
   "metadata": {},
   "source": [
    "Resolvemos el sistema de ecuaciones"
   ]
  },
  {
   "cell_type": "code",
   "execution_count": 14,
   "metadata": {},
   "outputs": [
    {
     "name": "stdout",
     "output_type": "stream",
     "text": [
      "[2.  2.5 2.5 2.5]\n"
     ]
    }
   ],
   "source": [
    "UG = np.linalg.solve(KG, F)  #Solución del sistema de ecuaciones\n",
    "print(UG)"
   ]
  },
  {
   "cell_type": "markdown",
   "metadata": {},
   "source": [
    "## Problemas para la clase."
   ]
  },
  {
   "cell_type": "markdown",
   "metadata": {},
   "source": [
    "<div class=\"alert alert-success\">\n",
    "\n",
    "\n",
    "### Problema 1: Ensamblaje\n",
    "\n",
    "* Enumere las \"masas\" (o desplazamientos globales). En los puntos correspondientes a una restricción asigne el identificador -1.\n",
    "\n",
    "* Escriba la matriz indicadora de ecuaciones `MIE()`.\n",
    "\n",
    "* En una hoja de papel esquematice la estructura de la matriz global.\n",
    "\n",
    "* Verifique su respuesta al numeral anterior visualizando la matriz global calcualda con el programa y comente sus resultados.\n",
    "\n",
    "</div>\n",
    "\n"
   ]
  },
  {
   "cell_type": "markdown",
   "metadata": {},
   "source": [
    "### Ejemplo:\n",
    "\n",
    "\n",
    "<center><img src=\"img/ejemplo.png\" alt=\"files\" style=\"width:300px\"></center>"
   ]
  },
  {
   "cell_type": "code",
   "execution_count": 15,
   "metadata": {},
   "outputs": [
    {
     "data": {
      "text/plain": [
       "array([[ 2., -1.],\n",
       "       [-1.,  1.]])"
      ]
     },
     "execution_count": 15,
     "metadata": {},
     "output_type": "execute_result"
    },
    {
     "data": {
      "image/png": "[encoded data removed]",
      "text/plain": [
       "<Figure size 432x288 with 1 Axes>"
      ]
     },
     "metadata": {
      "needs_background": "light"
     },
     "output_type": "display_data"
    }
   ],
   "source": [
    "MIE = np.array([[-1 , 0],\n",
    "                [ 0 ,  1]])\n",
    "mats = np.array([ 1.0 , 1.0 ])  # Coeficientes de rigidez de cada resorte\n",
    "KG = assembly(MIE , mats , numel = 2 , neq= 2)   # Ensamblaje de la matriz global\n",
    "plt.spy(KG)\n",
    "KG"
   ]
  },
  {
   "cell_type": "markdown",
   "metadata": {},
   "source": [
    "<center><img src=\"img/resortes.png\" alt=\"files\" style=\"width:500px\"></center>"
   ]
  },
  {
   "cell_type": "markdown",
   "metadata": {},
   "source": [
    "<div class=\"alert alert-success\">\n",
    "    \n",
    "### Problema 2: Ensamblaje inverso\n",
    "\n",
    "Para cada uno de las siguientes matrices proponga un sistema de resortes valido:\n",
    "\n",
    "$$ {MIE} = \\left[ {\\begin{array}{*{20}{c}}\n",
    "0&1\\\\\n",
    "{1}&-1\\\\\n",
    "\\end{array}} \\right]$$\n",
    "\n",
    "\n",
    "$$ {MIE} = \\left[ {\\begin{array}{*{20}{c}}\n",
    "0&1\\\\\n",
    "{1}&2\\\\\n",
    "{0}&1\\\\\n",
    "\\end{array}} \\right]$$\n",
    "\n",
    "</div>"
   ]
  },
  {
   "cell_type": "markdown",
   "metadata": {},
   "source": [
    "<div class=\"alert alert-success\">\n",
    "\n",
    "### Problema 3: Sistemas equivalentes\n",
    "\n",
    "Utilizando las expresiones para resortes equivalntes en sistemas en serie y en paralelo dadas por:\n",
    "\n",
    "$$\\frac{1}{{{k_{eff}}}} = \\frac{1}{{{k_1}}} + \\frac{1}{{{k_2}}}$$\n",
    "\n",
    "y\n",
    "\n",
    "$${k_{eff}} = {k_1} + {k_2}$$\n",
    "\n",
    "respectivamente, determinar el sistema equivalente compuesto por un solo resorte en cada uno de los sistemas de la figura. Verifique sus resultados resolviendo ambos sistemas con el programa.\n",
    "\n",
    "<center><img src=\"img/resortes.png\" alt=\"files\" style=\"width:500px\"></center>\n",
    "\n",
    "\n",
    "\n",
    "</div>"
   ]
  },
  {
   "cell_type": "code",
   "execution_count": 1,
   "metadata": {},
   "outputs": [
    {
     "data": {
      "text/html": [
       "<link href=\"https://fonts.googleapis.com/css?family=Merriweather:300,300i,400,400i,700,700i,900,900i\" rel='stylesheet' >\n",
       "<link href=\"https://fonts.googleapis.com/css?family=Source+Sans+Pro:300,300i,400,400i,700,700i\" rel='stylesheet' >\n",
       "<link href='http://fonts.googleapis.com/css?family=Source+Code+Pro:300,400' rel='stylesheet' >\n",
       "<style>\n",
       "\n",
       "@font-face {\n",
       "    font-family: \"Computer Modern\";\n",
       "    src: url('http://mirrors.ctan.org/fonts/cm-unicode/fonts/otf/cmunss.otf');\n",
       "}\n",
       "\n",
       "\n",
       "#notebook_panel { /* main background */\n",
       "    background: rgb(245,245,245);\n",
       "}\n",
       "\n",
       "div.cell { /* set cell width */\n",
       "    width: 800px;\n",
       "}\n",
       "\n",
       "div #notebook { /* centre the content */\n",
       "    background: #fff; /* white background for content */\n",
       "    width: 1000px;\n",
       "    margin: auto;\n",
       "    padding-left: 0em;\n",
       "}\n",
       "\n",
       "#notebook li { /* More space between bullet points */\n",
       "margin-top:0.5em;\n",
       "}\n",
       "\n",
       "/* draw border around running cells */\n",
       "div.cell.border-box-sizing.code_cell.running { \n",
       "    border: 1px solid #111;\n",
       "}\n",
       "\n",
       "/* Put a solid color box around each cell and its output, visually linking them*/\n",
       "div.cell.code_cell {\n",
       "    background-color: rgb(256,256,256); \n",
       "    border-radius: 0px; \n",
       "    padding: 0.5em;\n",
       "    margin-left:1em;\n",
       "    margin-top: 1em;\n",
       "}\n",
       "\n",
       "\n",
       "div.text_cell_render{\n",
       "    font-family: 'Source Sans Pro', sans-serif;\n",
       "    line-height: 140%;\n",
       "    font-size: 110%;\n",
       "    width:680px;\n",
       "    margin-left:auto;\n",
       "    margin-right:auto;\n",
       "}\n",
       "\n",
       "/* Formatting for header cells */\n",
       ".text_cell_render h1 {\n",
       "    font-family: 'Merriweather', serif;\n",
       "    font-style:regular;\n",
       "    font-weight: bold;    \n",
       "    font-size: 250%;\n",
       "    line-height: 100%;\n",
       "    color: #004065;\n",
       "    margin-bottom: 1em;\n",
       "    margin-top: 0.5em;\n",
       "    display: block;\n",
       "}\t\n",
       ".text_cell_render h2 {\n",
       "    font-family: 'Merriweather', serif;\n",
       "    font-weight: bold; \n",
       "    font-size: 180%;\n",
       "    line-height: 100%;\n",
       "    color: #0096d6;\n",
       "    margin-bottom: 0.5em;\n",
       "    margin-top: 0.5em;\n",
       "    display: block;\n",
       "}\t\n",
       "\n",
       ".text_cell_render h3 {\n",
       "    font-family: 'Merriweather', serif;\n",
       "\tfont-size: 150%;\n",
       "    margin-top:12px;\n",
       "    margin-bottom: 3px;\n",
       "    font-style: regular;\n",
       "    color: #008367;\n",
       "}\n",
       "\n",
       ".text_cell_render h4 {    /*Use this for captions*/\n",
       "    font-family: 'Merriweather', serif;\n",
       "    font-weight: 300; \n",
       "    font-size: 100%;\n",
       "    line-height: 120%;\n",
       "    text-align: left;\n",
       "    width:500px;\n",
       "    margin-top: 1em;\n",
       "    margin-bottom: 2em;\n",
       "    margin-left: 80pt;\n",
       "    font-style: regular;\n",
       "}\n",
       "\n",
       ".text_cell_render h5 {  /*Use this for small titles*/\n",
       "    font-family: 'Source Sans Pro', sans-serif;\n",
       "    font-weight: regular;\n",
       "    font-size: 130%;\n",
       "    color: #e31937;\n",
       "    font-style: italic;\n",
       "    margin-bottom: .5em;\n",
       "    margin-top: 1em;\n",
       "    display: block;\n",
       "}\n",
       "\n",
       ".text_cell_render h6 { /*use this for copyright note*/\n",
       "    font-family: 'Source Code Pro', sans-serif;\n",
       "    font-weight: 300;\n",
       "    font-size: 9pt;\n",
       "    line-height: 100%;\n",
       "    color: grey;\n",
       "    margin-bottom: 1px;\n",
       "    margin-top: 1px;\n",
       "}\n",
       "\n",
       "    .CodeMirror{\n",
       "            font-family: \"Source Code Pro\";\n",
       "\t\t\tfont-size: 90%;\n",
       "    }\n",
       "/*    .prompt{\n",
       "        display: None;\n",
       "    }*/\n",
       "\t\n",
       "    \n",
       "    .warning{\n",
       "        color: rgb( 240, 20, 20 )\n",
       "        }  \n",
       "</style>\n",
       "<script>\n",
       "    MathJax.Hub.Config({\n",
       "                        TeX: {\n",
       "                           extensions: [\"AMSmath.js\"], \n",
       "                           equationNumbers: { autoNumber: \"AMS\", useLabelIds: true}\n",
       "                           },\n",
       "                tex2jax: {\n",
       "                    inlineMath: [ ['$','$'], [\"\\\\(\",\"\\\\)\"] ],\n",
       "                    displayMath: [ ['$$','$$'], [\"\\\\[\",\"\\\\]\"] ]\n",
       "                },\n",
       "                displayAlign: 'center', // Change this to 'center' to center equations.\n",
       "                \"HTML-CSS\": {\n",
       "                    styles: {'.MathJax_Display': {\"margin\": 4}}\n",
       "                }\n",
       "        });\n",
       "</script>\n"
      ],
      "text/plain": [
       "<IPython.core.display.HTML object>"
      ]
     },
     "execution_count": 1,
     "metadata": {},
     "output_type": "execute_result"
    }
   ],
   "source": [
    "# Execute this cell to load the notebook's style sheet, then ignore it\n",
    "from IPython.core.display import HTML\n",
    "css_file = 'estilo.css'\n",
    "HTML(open(css_file, \"r\").read())"
   ]
  },
  {
   "cell_type": "code",
   "execution_count": null,
   "metadata": {},
   "outputs": [],
   "source": []
  }
 ],
 "metadata": {
  "kernelspec": {
   "display_name": "Python 3",
   "language": "python",
   "name": "python3"
  },
  "language_info": {
   "codemirror_mode": {
    "name": "ipython",
    "version": 3
   },
   "file_extension": ".py",
   "mimetype": "text/x-python",
   "name": "python",
   "nbconvert_exporter": "python",
   "pygments_lexer": "ipython3",
   "version": "3.7.1"
  },
  "widgets": {
   "state": {},
   "version": "1.1.2"
  }
 },
 "nbformat": 4,
 "nbformat_minor": 2
}
