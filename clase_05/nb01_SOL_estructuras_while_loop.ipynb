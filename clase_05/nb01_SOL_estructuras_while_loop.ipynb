{
 "cells": [
  {
   "cell_type": "markdown",
   "metadata": {},
   "source": [
    "# Fundamentos de programación\n",
    "\n",
    "## Estructuras de Repetición (Ciclos)\n",
    "\n",
    "Otra operación frecuente en un programa es la ejecución repetitiva de un mismo bloque de código. Estas estructuras se denominan bucles, lazos, loops o ciclos y se usan de 2 formas dependiendo de si el numero de repeticiones es fijo o si estas dependen de condiciones que pueden cambiar dentro del ciclo."
   ]
  },
  {
   "cell_type": "markdown",
   "metadata": {},
   "source": [
    "### Ciclo While (o Hacer_mientras)\n",
    "\n",
    "Esta estructura el cuerpo del ciclo se repite siempre y cuando se satisfaga determinada condición, es decir el numero de repeticiones es variable. La condición siempre es evaluada al principio del ciclo por lo que esta debe ser verdadera justo antes de entrar al mismo de lo contrario este no se ejecutaría ni una sola vez. En la representación gráfica de la figura las acciones del ciclo solo se ejecutan de manera repetida si la condición representada en el rombo da un resultado positivo (True) y las iteraciones solo se detendrán cuando esta condición de un resultado negativo (False).\n",
    "\n",
    "\n",
    "\n",
    "<center><img src=\"./img/while_loop.png\" alt=\"files\" style=\"width:400px\"></center>\n"
   ]
  },
  {
   "cell_type": "markdown",
   "metadata": {},
   "source": [
    "<center><img src=\"./img/loop_while.png\" alt=\"files\" style=\"width:600px\"></center>"
   ]
  },
  {
   "cell_type": "markdown",
   "metadata": {},
   "source": [
    "### Ejemplo\n",
    "\n",
    "Para entender la necesidad de estas estructuras repetitivas consideremos un código que calcule la suma de $N$ numeros leidos del usuario. Si por ejemplo $N = 4$ entonces el código sería el siguiente."
   ]
  },
  {
   "cell_type": "code",
   "execution_count": null,
   "metadata": {},
   "outputs": [],
   "source": [
    "suma = 0\n",
    "\n",
    "numero = int(input())\n",
    "suma = suma + numero\n",
    "\n",
    "numero = int(input())\n",
    "suma = suma + numero\n",
    "\n",
    "numero = int(input())\n",
    "suma = suma + numero\n",
    "\n",
    "numero = int(input())\n",
    "suma = suma + numero\n",
    "\n",
    "print('El valor de la suma es ' , suma)"
   ]
  },
  {
   "cell_type": "markdown",
   "metadata": {},
   "source": [
    "Si aumentaramos el valor de $N$ tendríamos que agregar mas repeticiones del mismo bloque de código hasta alcanzar $N$ lo cual lo haría un programa poco eficiente. Alternativamente, el problema lo podemos resolver usando la estructura `while`. En este caso utilizaremos la variable `icount` para contar el numéro de valores sumados y el ciclo se ejecutará siempre y cuando el valor almacenado en esta variable sea menor que $N$."
   ]
  },
  {
   "cell_type": "code",
   "execution_count": null,
   "metadata": {},
   "outputs": [],
   "source": [
    "suma = 0\n",
    "N = 3\n",
    "icount = 0\n",
    "while icount < N:\n",
    "    numero = int(input())\n",
    "    suma = suma + numero\n",
    "    icount = icount + 1\n",
    "print('El valor de la suma es ' , suma)"
   ]
  },
  {
   "cell_type": "markdown",
   "metadata": {},
   "source": [
    "### Ejemplo\n",
    "\n",
    "Escribir un algoritmo que calcule el área de una serie de circulos de radio creciente hasta que se exceda cierto valor límite $A_{max}$"
   ]
  },
  {
   "cell_type": "code",
   "execution_count": null,
   "metadata": {},
   "outputs": [],
   "source": [
    "ro   = 1.0\n",
    "dr = 0.5\n",
    "Amax = 100.0\n",
    "r = ro\n",
    "A = np.pi*ro**2\n",
    "while A < Amax:\n",
    "    print(A)\n",
    "    r = r + dr\n",
    "    A = np.pi*r**2    "
   ]
  },
  {
   "cell_type": "markdown",
   "metadata": {},
   "source": [
    "### Ejerecicios para la clase\n",
    "\n",
    "<div class=\"alert alert-success\">\n",
    "    \n",
    "Escribir programas para:\n",
    "\n",
    "(i) Contar desde 1 hasta N.\n",
    "\n",
    "(ii) Calcular las áreas de una serie de circulos de radio inicial $r_o$, radio final $r_f$ y decreciendo en $\\delta r.$\n",
    "\n",
    "(iii) Calcular la suma de una serie de numeros leidos del usuario y deternese si la suma supera cierto valor limite.\n",
    "\n",
    "(iv) Calcular la suma de una serie de numeros leidos del usuario pero detenerse si el numero a sumar es impar. (Nota: Usar el operador `%` para detectar si un numero es impar.)\n",
    "\n",
    "(v) Calcular la suma de una serie de numeros leidos del usuario pero detenerse si el total de la suma es impar. \n",
    "\n",
    "(vi) Calcular la resistencia promedio de una serie de cilindros probados en el laboratorio. Para terminar el proceso ingresar una resistencia igual a $-1$.\n",
    "\n",
    "(vii) Diseñar un algoritmo que recorra los numeros del 1 al 100 y escriba los que sean divisibles por 5.\n",
    "\n",
    "(viii) Repetir el algoritmo anterior pero ahora haciendo que este indique si el numero actual no es divisible por 5.\n",
    "\n",
    "</div>"
   ]
  },
  {
   "cell_type": "code",
   "execution_count": null,
   "metadata": {},
   "outputs": [],
   "source": [
    "suma = 0\n",
    "cond = True\n",
    "while cond:\n",
    "    numero = int(input())\n",
    "    if numero%2 == 0:\n",
    "        suma = suma + numero\n",
    "    else:\n",
    "        cond = False\n",
    "print('El valor de la suma es ' , suma)"
   ]
  },
  {
   "cell_type": "code",
   "execution_count": null,
   "metadata": {},
   "outputs": [],
   "source": [
    "suma = 0\n",
    "cond = True\n",
    "while cond:\n",
    "    numero = int(input())\n",
    "    if numero != -1:\n",
    "        suma = suma + numero\n",
    "    else:\n",
    "        cond = False\n",
    "print('El valor de la suma es ' , suma)"
   ]
  },
  {
   "cell_type": "markdown",
   "metadata": {},
   "source": [
    "## Solución"
   ]
  },
  {
   "cell_type": "code",
   "execution_count": null,
   "metadata": {},
   "outputs": [],
   "source": [
    "# Contar desde 1 hasta N usando while_do\n",
    "#\n",
    "i = 1\n",
    "N = 10\n",
    "while i<=N:\n",
    "    print('contador =' , i)\n",
    "    i = i + 1\n",
    "print('End')"
   ]
  },
  {
   "cell_type": "code",
   "execution_count": null,
   "metadata": {},
   "outputs": [],
   "source": [
    "# Areas de circulos\n",
    "#\n",
    "import numpy as np\n",
    "ro = 1.0\n",
    "rf = 5.0\n",
    "dr = 0.5\n",
    "N = int((rf-ro)/dr)\n",
    "i = 1\n",
    "r = ro\n",
    "while i<=N+1:\n",
    "    print('area =', np.pi*r**2)    \n",
    "    r = r + dr    \n",
    "    i = i + 1"
   ]
  },
  {
   "cell_type": "code",
   "execution_count": null,
   "metadata": {},
   "outputs": [],
   "source": [
    "# Calcular la suma de una serie de numeros leidos del usuario\n",
    "# y deternese si la suma supera cierto valor limite.\n",
    "#\n",
    "limite = 10\n",
    "suma   = 0\n",
    "while suma < limite:\n",
    "    valor = int(input())\n",
    "    suma = suma + valor\n",
    "suma"
   ]
  },
  {
   "cell_type": "code",
   "execution_count": null,
   "metadata": {},
   "outputs": [],
   "source": [
    "#  Calcular la suma de una serie de numeros leidos del usuario\n",
    "# pero detenerse si el numero a sumar es impar.\n",
    "#\n",
    "icond = 0\n",
    "suma   = 0\n",
    "while icond == 0:\n",
    "    valor = int(input())\n",
    "    if (valor%2)!= 0:\n",
    "        icond = 1\n",
    "    else:\n",
    "        suma = suma + valor\n",
    "suma"
   ]
  },
  {
   "cell_type": "code",
   "execution_count": null,
   "metadata": {},
   "outputs": [],
   "source": [
    "# Calcular la suma de una serie de numeros leidos del usuario\n",
    "# pero detenerse si el total de la suma es impar. \n",
    "#\n",
    "icond  = 0\n",
    "suma   = 0\n",
    "while icond == 0:\n",
    "    valor = int(input())\n",
    "    suma = suma + valor    \n",
    "    if (suma%2)!= 0:\n",
    "        icond = 1\n",
    "suma"
   ]
  },
  {
   "cell_type": "code",
   "execution_count": null,
   "metadata": {},
   "outputs": [],
   "source": [
    "# Calcular la resistencia promedio de una serie de cilindros\n",
    "# probados en el laboratorio.\n",
    "# Para terminar el proceso ingresar una resistencia igual a $-1$.\n",
    "#\n",
    "icond  = 0\n",
    "suma_res = 0.0\n",
    "ncil = 0\n",
    "while icond == 0:\n",
    "    res = float(input())\n",
    "    if int(res) == -1:\n",
    "        icond = 1\n",
    "    else:\n",
    "        suma_res = suma_res + res\n",
    "        ncil = ncil + 1\n",
    "res_prom = suma_res/ncil\n",
    "print(res_prom)"
   ]
  },
  {
   "cell_type": "code",
   "execution_count": null,
   "metadata": {},
   "outputs": [],
   "source": [
    "# Diseñar un algoritmo que recorra los numeros del 1 al 100 y escriba los que sean divisibles por 5.\n",
    "#\n",
    "suma = 0\n",
    "while suma <= 100:\n",
    "    suma = suma +1\n",
    "    if suma%5 == 0:\n",
    "        print(suma)\n",
    "    \n",
    "\n"
   ]
  },
  {
   "cell_type": "code",
   "execution_count": null,
   "metadata": {},
   "outputs": [],
   "source": [
    "# Repetir el algoritmo anterior pero ahora haciendo que este indique\n",
    "#si el numero actual no es divisible por 5.\n",
    "#\n",
    "suma = 0\n",
    "while suma <= 100:\n",
    "    suma = suma +1\n",
    "    if suma%5 == 0:\n",
    "        print(suma)\n",
    "    else:\n",
    "        print(suma , 'no es divisible por 5')\n"
   ]
  },
  {
   "cell_type": "markdown",
   "metadata": {},
   "source": [
    "### Ciclo Until (o Hacer_hasta)\n",
    "\n",
    "En esta estructura el cuerpo del ciclo se repite mientras se satisfaga determinada condición pero en este caso la condición siempre es evaluada al final del ciclo por lo tanto este se ejecuta al menos una vez. **(este ciclo no existe en Python)**\n",
    "\n",
    "\n",
    "\n",
    "<center><img src=\"./img/until_loop.png\" alt=\"files\" style=\"width:300px\"></center>\n"
   ]
  },
  {
   "cell_type": "code",
   "execution_count": null,
   "metadata": {},
   "outputs": [],
   "source": [
    "from IPython.core.display import HTML\n",
    "css_file = 'estilo.css'\n",
    "HTML(open(css_file, \"r\").read())"
   ]
  },
  {
   "cell_type": "code",
   "execution_count": null,
   "metadata": {},
   "outputs": [],
   "source": []
  }
 ],
 "metadata": {
  "kernelspec": {
   "display_name": "Python 3",
   "language": "python",
   "name": "python3"
  },
  "language_info": {
   "codemirror_mode": {
    "name": "ipython",
    "version": 3
   },
   "file_extension": ".py",
   "mimetype": "text/x-python",
   "name": "python",
   "nbconvert_exporter": "python",
   "pygments_lexer": "ipython3",
   "version": "3.7.1"
  }
 },
 "nbformat": 4,
 "nbformat_minor": 2
}
