{
 "cells": [
  {
   "cell_type": "markdown",
   "metadata": {},
   "source": [
    "# Fundamentos de programación\n",
    "\n",
    "## Arreglos en Numpy\n",
    "\n",
    "`NumPy` es un paquete de Python desarrollado para actividades de computación científica como solución a problemas de algebra lineal, interpolación, integración numérica, transformadas, etc.\n",
    "\n",
    "`NumPy` ha sido desarrollado, principalmente, al rededor de un objeto tipo Arreglo Multidimensional `(ndarray)` y varios objetos derivados de este como son los arreglos enmascarados [masked arrays](http://https://docs.scipy.org/doc/numpy-1.13.0/reference/maskedarray.html) y  las matrices.\n",
    "\n",
    "La principal ventaja de `NumPy` sobre la distribución básica de Python es que `NumPy` ofrece una variedad de rutinas para realizar operaciones (y cálculos) rapidos sobre los arreglos tales como manipulación de forma, ordenamiento, selección, transformadas, algebra líneal básica, etc.\n",
    "\n",
    "En esta sección utilizaremos solamente algunos de los recursos fundamentales de los arreglos de  `NumPy` y a través del curso iremos profundizando en su uso."
   ]
  },
  {
   "cell_type": "markdown",
   "metadata": {},
   "source": [
    "## Aspectos fundamentales\n",
    "\n",
    "* Como crear un arreglo?\n",
    "\n",
    "* Como acceder a sus elementos?\n",
    "\n",
    "* Algebra básica.\n",
    "\n",
    "  * Suma (resta)\n",
    "  \n",
    "  * Productos.\n",
    "  \n",
    "  * Transpuesta. Inversa.\n",
    "  \n",
    "  * Sistemas de ecuaciones.\n",
    "  \n",
    "  * Valores propios"
   ]
  },
  {
   "cell_type": "code",
   "execution_count": null,
   "metadata": {},
   "outputs": [],
   "source": [
    "import numpy as np"
   ]
  },
  {
   "cell_type": "markdown",
   "metadata": {},
   "source": [
    "### ¿Como crear un arreglo?\n",
    "\n",
    "Existen varias formas de crear arreglos en `Numpy` y solo cubriremos unas cuantas.\n",
    "\n",
    "**De forma implicita**\n",
    "\n",
    "Supongamos que para almacenar la matriz de rigidez de una estructura aporticada necesitamos crear el arreglo $K$ de orden $n \\times n$ donde $n$ es el numero de grados de libertad del sistema. Considerando que se trata de coeficientes de rigidez los datos del arreglo deben ser de tipo real. Para inicializar el arreglo podemos usar el siguiente código:"
   ]
  },
  {
   "cell_type": "code",
   "execution_count": null,
   "metadata": {},
   "outputs": [],
   "source": [
    "K = np.zeros([4 ,4] , dtype = float)"
   ]
  },
  {
   "cell_type": "markdown",
   "metadata": {},
   "source": [
    "y en el cual entre corchetes especificamos el tamaño del arreglo (numero de filas y numero de columnas), mientras que en el paramétro `dtype` indicamos que los valores a almacenar en el arreglo son de tipo real (o de punto flotante)."
   ]
  },
  {
   "cell_type": "code",
   "execution_count": null,
   "metadata": {},
   "outputs": [],
   "source": []
  },
  {
   "cell_type": "markdown",
   "metadata": {},
   "source": [
    "**De forma explicita**\n",
    "\n",
    "También es posible crear un arreglo definiendo de forma explicita cada uno de sus valores. Por ejemplo:"
   ]
  },
  {
   "cell_type": "code",
   "execution_count": null,
   "metadata": {},
   "outputs": [],
   "source": [
    "A = np.array([[1. , 2.] , [3. , 4.]])\n",
    "A"
   ]
  },
  {
   "cell_type": "markdown",
   "metadata": {},
   "source": [
    "<div class=\"alert alert-warning\">\n",
    "    \n",
    "* Utilice el método `type()` de Python para identificar el tipo de dato de la variable $K$.\n",
    "\n",
    "* Redefina el arreglo $K$ pero asumiendo ahora que este almacenará datos de tipo entero.\n",
    "\n",
    "* Nuevamente utilice el método `type()` e identifique el tipo de dato de la variable $K$. Comente su resultado en relación con el del primer caso.\n",
    "\n",
    "* Redefina el arreglo $K$ pero en este caso utilice la siguinete sintáxis `K = np.zeros((4,4))`. Que puede concluir del resultado?\n",
    "\n",
    "</div>"
   ]
  },
  {
   "cell_type": "markdown",
   "metadata": {},
   "source": [
    "**A partir de un archivo de texto**\n",
    "\n",
    "En computación científica es común definir los datos de un problema por medio de archivos. Por ejemplo en el siguiente bloque de código el archivo `eles.txt` contiene información relativa a los elementos y nudos de una malla por elementos finitos. Los datos del archivo son de tipo entero y además se desean almacenar en un arreglo de `Numpy` de orden 2. En este caso usaremos el método `loadtxt()` para cargar el archivo en el arreglo elements de la siguiente forma:"
   ]
  },
  {
   "cell_type": "code",
   "execution_count": null,
   "metadata": {},
   "outputs": [],
   "source": [
    "elements = np.loadtxt('files/eles.txt', ndmin=2, dtype=np.int)"
   ]
  },
  {
   "cell_type": "markdown",
   "metadata": {},
   "source": [
    "<div class=\"alert alert-warning\">\n",
    "    \n",
    "* Verifique que efectivamente los elementos almacenados en el arreglo `elements` son de tipo entero.\n",
    "\n",
    "* Suponga que al cargar el archivo `eles.txt` usted olvidó especiifcar la dimensión y el tipo de datos que almacenará el arreglo. Cual sería el resultado?\n",
    "\n",
    "* Así como es posible cargar un archivo de texto en un arreglo de numpy, será posible escribir un archivo de texto a partir de un arreglo de numpy?\n",
    "\n",
    "</div>"
   ]
  },
  {
   "cell_type": "code",
   "execution_count": null,
   "metadata": {},
   "outputs": [],
   "source": []
  },
  {
   "cell_type": "markdown",
   "metadata": {},
   "source": [
    "### ¿Como acceder a sus elementos? (Indexado)"
   ]
  },
  {
   "cell_type": "markdown",
   "metadata": {},
   "source": [
    "Para acceder a los datos de un arreglo de `Numpy` se especifica la posición del dato entre corchetes. Por ejemplo para acceder al dato almacenado en la fila 2 columna 4 del arreglo $K$ usamos (tenga en cuenta que en Python la primera posición de un arreglo tiene indice $0$):"
   ]
  },
  {
   "cell_type": "code",
   "execution_count": null,
   "metadata": {},
   "outputs": [],
   "source": [
    "K[1,3]"
   ]
  },
  {
   "cell_type": "markdown",
   "metadata": {},
   "source": [
    "<div class=\"alert alert-warning\">\n",
    "    \n",
    "* Escribir un bloque de código que recorra el arreglo $K$ una fila a la vez\n",
    "\n",
    "</div>"
   ]
  },
  {
   "cell_type": "markdown",
   "metadata": {},
   "source": [
    "En Python es posible iterar a través de los elementos de una secuencia usando un ciclo `for` pero sin la necesidad de especificar el rango de la secuencia. Por ejemplo es posible recorrer los elementos del arreglo `ids()` incluyendo el nombre del arreglo en el paramétro de iteración del ciclo. En el primer bloque de código presentado a continuación se recorre el arreglo haciendo referencia explicita a cada elemento del vector mediante el ínidice i, mientras que en el segundo bloque se especifica simplemente el nombre del arreglo sobre el que se va a iterar."
   ]
  },
  {
   "cell_type": "code",
   "execution_count": null,
   "metadata": {},
   "outputs": [],
   "source": [
    "ids = elements[: , 0]\n",
    "ndats = len(ids)\n",
    "for i in range(ndats):\n",
    "    print(ids[i])"
   ]
  },
  {
   "cell_type": "code",
   "execution_count": null,
   "metadata": {},
   "outputs": [],
   "source": [
    "for element in ids:\n",
    "    element"
   ]
  },
  {
   "cell_type": "markdown",
   "metadata": {},
   "source": [
    "### Abrevación de listas (List comprehensions)\n",
    "\n",
    "Forma corta, consisa e intuitiva de construir una secuencia (p.e., una lista) a partir de operaciones sobre los elementos de otra secuencia. En este caso usaremos como secuencia un arreglo de `numpy`."
   ]
  },
  {
   "cell_type": "code",
   "execution_count": null,
   "metadata": {},
   "outputs": [],
   "source": [
    "B = np.random.randint(1 , 20 , 10 , dtype= np.int)\n",
    "C = np.random.randint(1 , 20 , 10 , dtype= np.int)"
   ]
  },
  {
   "cell_type": "code",
   "execution_count": null,
   "metadata": {},
   "outputs": [],
   "source": [
    "[x**2 for x in B]"
   ]
  },
  {
   "cell_type": "markdown",
   "metadata": {},
   "source": [
    "Abreviación sobre 2 listas: Todos los productos de los elementos de C por los elementos de B (Si C y B son vectores este es el producto tensorial usado en la Mecánica del medio continuo)."
   ]
  },
  {
   "cell_type": "code",
   "execution_count": null,
   "metadata": {},
   "outputs": [],
   "source": [
    "[x*y for x in C for y in B]"
   ]
  },
  {
   "cell_type": "markdown",
   "metadata": {},
   "source": [
    "<div class=\"alert alert-warning\">\n",
    "    \n",
    "Usando los siguientes arreglos escriba una doble abreviación sobre las listas `E` y `D` cuyo valor sea la lista de todas las posibles listas de 2 elementos `(letra , numero)` como por ejemplo `[['a' , 5] , ['b' , 1]...]`\n",
    "\n",
    "</div>"
   ]
  },
  {
   "cell_type": "code",
   "execution_count": null,
   "metadata": {},
   "outputs": [],
   "source": [
    "D = np.random.randint(1 , 20 , 10 , dtype= np.int)\n",
    "E = ['a' , 'b' , 'c' , 'd' , 'e']\n",
    "\n",
    "[[i , h] for i in E for h in D]"
   ]
  },
  {
   "cell_type": "markdown",
   "metadata": {},
   "source": [
    "<div class=\"alert alert-warning\">\n",
    "    \n",
    "Dada la siguiente matriz `[[.25, .75, .1],[-1, 0], [4, 4, 4, 4]]` escriba una abreviación que calcule la suma de todos los elementos en cada fila.\n",
    "\n",
    "</div>"
   ]
  },
  {
   "cell_type": "code",
   "execution_count": null,
   "metadata": {},
   "outputs": [],
   "source": [
    "ldls = ([[.25, .75, .1],[-1, 0], [4, 4, 4, 4]])\n",
    "[sum(x) for x in ldls]"
   ]
  },
  {
   "cell_type": "markdown",
   "metadata": {},
   "source": [
    "### Selección por rangos (slicing)\n",
    "\n",
    "\n",
    "Un `slice` de una lista (o arreglo) es una nueva lista (o arreglo) que almacena un subconjunto consecutivo de elementos de la vieja lista de acuerdo con un rango de indices especificados usando la siguiente sintáxis:\n",
    "\n",
    "`[Vi:Vf:Paso]`\n",
    "\n",
    "donde:\n",
    "\n",
    "- Vi : Valor inicial del rango.\n",
    "\n",
    "- Vf : Valor final .\n",
    "\n",
    "- Paso: Incremento.\n",
    "\n",
    "En notación matemática este corresponde al intervalo `[Vi , Vf)`\n",
    "\n",
    "Por ejemplo `[5:20:2]` toma el rango que inicia en el elemento 5 termina en el elemento 20 y los selecciona de 2 en 2. En la notación se admiten además las siguientes abreviaciones o equivalencias:\n",
    "\n",
    "- `[:Vf] toma desde el elemento 0 hasta Vf`\n",
    "\n",
    "- `[::Paso] toma toda la lista y va de Paso en Paso`\n",
    "\n",
    "- `[1::Paso] Inicia en 1, toma toda la lista y va de Paso en Paso`"
   ]
  },
  {
   "cell_type": "code",
   "execution_count": null,
   "metadata": {},
   "outputs": [],
   "source": [
    "D = np.random.randint(1 , 20 , 20 , dtype= np.int)\n",
    "D"
   ]
  },
  {
   "cell_type": "code",
   "execution_count": null,
   "metadata": {},
   "outputs": [],
   "source": [
    "D[1:11]"
   ]
  },
  {
   "cell_type": "markdown",
   "metadata": {},
   "source": [
    "<div class=\"alert alert-warning\">\n",
    "    \n",
    "Usando el arreglo `D` extraer arreglos con los siguientes rangos:\n",
    "\n",
    "   - Los primeros 5 elementos del arreglo.\n",
    "\n",
    "   - Toda el arreglo contando de 3 en 3.\n",
    "\n",
    "   - Rango correspondiente al elemento en la posición 5 y al elemento en la pisición 10 inclusive y posteriormente excluyendo el de la posición 10.\n",
    "\n",
    "   - Los últimos 5 elementos del arreglo.\n",
    "\n",
    "</div>"
   ]
  },
  {
   "cell_type": "markdown",
   "metadata": {},
   "source": [
    "### Algebra básica"
   ]
  },
  {
   "cell_type": "code",
   "execution_count": null,
   "metadata": {},
   "outputs": [],
   "source": [
    "a = np.random.randint(1 , 20 , 10 , dtype= np.int)\n",
    "print(a)\n",
    "b = np.random.randint(1 , 20 , 10 , dtype= np.int)\n",
    "print(b)"
   ]
  },
  {
   "cell_type": "markdown",
   "metadata": {},
   "source": [
    "**Adición**"
   ]
  },
  {
   "cell_type": "code",
   "execution_count": null,
   "metadata": {},
   "outputs": [],
   "source": [
    "a + b"
   ]
  },
  {
   "cell_type": "markdown",
   "metadata": {},
   "source": [
    "**Multiplicación**\n",
    "\n",
    "La operación `a*b` entre 2 arreglos de `Numpy` produce un nuevo arreglo `c` en el que:\n",
    "\n",
    "$c_i = a_i * b_i$"
   ]
  },
  {
   "cell_type": "code",
   "execution_count": null,
   "metadata": {},
   "outputs": [],
   "source": [
    "a*b"
   ]
  },
  {
   "cell_type": "markdown",
   "metadata": {},
   "source": [
    "<div class=\"alert alert-warning\">\n",
    "    \n",
    "* Como calcular el producto punto entre 2 vectores $a$ y $b$ ?\n",
    "\n",
    "</div>"
   ]
  },
  {
   "cell_type": "markdown",
   "metadata": {},
   "source": [
    "### Algebra lineal\n",
    "\n",
    "Revisemos algunas operaciones básicas de algebra lineal usando arreglos de `Numpy`. Se recomienda revisar a profundidad la librería [linalg](https://numpy.org/doc/stable/reference/routines.linalg.html)."
   ]
  },
  {
   "cell_type": "code",
   "execution_count": null,
   "metadata": {},
   "outputs": [],
   "source": [
    "#from numpy.linalg import inv , eig\n",
    "from numpy import linalg as LA"
   ]
  },
  {
   "cell_type": "markdown",
   "metadata": {},
   "source": [
    "**Inversa**"
   ]
  },
  {
   "cell_type": "code",
   "execution_count": null,
   "metadata": {},
   "outputs": [],
   "source": [
    "Ainv = LA.inv(A)\n",
    "Ainv"
   ]
  },
  {
   "cell_type": "markdown",
   "metadata": {},
   "source": [
    "**Producto**"
   ]
  },
  {
   "cell_type": "code",
   "execution_count": null,
   "metadata": {},
   "outputs": [],
   "source": [
    "C = np.dot(A , Ainv)\n",
    "print(C)"
   ]
  },
  {
   "cell_type": "markdown",
   "metadata": {},
   "source": [
    "**Transpuesta**"
   ]
  },
  {
   "cell_type": "code",
   "execution_count": null,
   "metadata": {},
   "outputs": [],
   "source": [
    "A.transpose()"
   ]
  },
  {
   "cell_type": "markdown",
   "metadata": {},
   "source": [
    "**Valores y vectores propios**"
   ]
  },
  {
   "cell_type": "code",
   "execution_count": null,
   "metadata": {},
   "outputs": [],
   "source": [
    "diag = np.diag((1, 2, 3))\n",
    "w , v = LA.eig(diag)"
   ]
  },
  {
   "cell_type": "code",
   "execution_count": null,
   "metadata": {},
   "outputs": [],
   "source": [
    "print(w)\n",
    "print(v)"
   ]
  },
  {
   "cell_type": "code",
   "execution_count": 1,
   "metadata": {},
   "outputs": [
    {
     "data": {
      "text/html": [
       "<link href=\"https://fonts.googleapis.com/css?family=Merriweather:300,300i,400,400i,700,700i,900,900i\" rel='stylesheet' >\n",
       "<link href=\"https://fonts.googleapis.com/css?family=Source+Sans+Pro:300,300i,400,400i,700,700i\" rel='stylesheet' >\n",
       "<link href='http://fonts.googleapis.com/css?family=Source+Code+Pro:300,400' rel='stylesheet' >\n",
       "<style>\n",
       "\n",
       "@font-face {\n",
       "    font-family: \"Computer Modern\";\n",
       "    src: url('http://mirrors.ctan.org/fonts/cm-unicode/fonts/otf/cmunss.otf');\n",
       "}\n",
       "\n",
       "\n",
       "#notebook_panel { /* main background */\n",
       "    background: rgb(245,245,245);\n",
       "}\n",
       "\n",
       "div.cell { /* set cell width */\n",
       "    width: 800px;\n",
       "}\n",
       "\n",
       "div #notebook { /* centre the content */\n",
       "    background: #fff; /* white background for content */\n",
       "    width: 1000px;\n",
       "    margin: auto;\n",
       "    padding-left: 0em;\n",
       "}\n",
       "\n",
       "#notebook li { /* More space between bullet points */\n",
       "margin-top:0.5em;\n",
       "}\n",
       "\n",
       "/* draw border around running cells */\n",
       "div.cell.border-box-sizing.code_cell.running { \n",
       "    border: 1px solid #111;\n",
       "}\n",
       "\n",
       "/* Put a solid color box around each cell and its output, visually linking them*/\n",
       "div.cell.code_cell {\n",
       "    background-color: rgb(256,256,256); \n",
       "    border-radius: 0px; \n",
       "    padding: 0.5em;\n",
       "    margin-left:1em;\n",
       "    margin-top: 1em;\n",
       "}\n",
       "\n",
       "\n",
       "div.text_cell_render{\n",
       "    font-family: 'Source Sans Pro', sans-serif;\n",
       "    line-height: 140%;\n",
       "    font-size: 110%;\n",
       "    width:680px;\n",
       "    margin-left:auto;\n",
       "    margin-right:auto;\n",
       "}\n",
       "\n",
       "/* Formatting for header cells */\n",
       ".text_cell_render h1 {\n",
       "    font-family: 'Merriweather', serif;\n",
       "    font-style:regular;\n",
       "    font-weight: bold;    \n",
       "    font-size: 250%;\n",
       "    line-height: 100%;\n",
       "    color: #004065;\n",
       "    margin-bottom: 1em;\n",
       "    margin-top: 0.5em;\n",
       "    display: block;\n",
       "}\t\n",
       ".text_cell_render h2 {\n",
       "    font-family: 'Merriweather', serif;\n",
       "    font-weight: bold; \n",
       "    font-size: 180%;\n",
       "    line-height: 100%;\n",
       "    color: #0096d6;\n",
       "    margin-bottom: 0.5em;\n",
       "    margin-top: 0.5em;\n",
       "    display: block;\n",
       "}\t\n",
       "\n",
       ".text_cell_render h3 {\n",
       "    font-family: 'Merriweather', serif;\n",
       "\tfont-size: 150%;\n",
       "    margin-top:12px;\n",
       "    margin-bottom: 3px;\n",
       "    font-style: regular;\n",
       "    color: #008367;\n",
       "}\n",
       "\n",
       ".text_cell_render h4 {    /*Use this for captions*/\n",
       "    font-family: 'Merriweather', serif;\n",
       "    font-weight: 300; \n",
       "    font-size: 100%;\n",
       "    line-height: 120%;\n",
       "    text-align: left;\n",
       "    width:500px;\n",
       "    margin-top: 1em;\n",
       "    margin-bottom: 2em;\n",
       "    margin-left: 80pt;\n",
       "    font-style: regular;\n",
       "}\n",
       "\n",
       ".text_cell_render h5 {  /*Use this for small titles*/\n",
       "    font-family: 'Source Sans Pro', sans-serif;\n",
       "    font-weight: regular;\n",
       "    font-size: 130%;\n",
       "    color: #e31937;\n",
       "    font-style: italic;\n",
       "    margin-bottom: .5em;\n",
       "    margin-top: 1em;\n",
       "    display: block;\n",
       "}\n",
       "\n",
       ".text_cell_render h6 { /*use this for copyright note*/\n",
       "    font-family: 'Source Code Pro', sans-serif;\n",
       "    font-weight: 300;\n",
       "    font-size: 9pt;\n",
       "    line-height: 100%;\n",
       "    color: grey;\n",
       "    margin-bottom: 1px;\n",
       "    margin-top: 1px;\n",
       "}\n",
       "\n",
       "    .CodeMirror{\n",
       "            font-family: \"Source Code Pro\";\n",
       "\t\t\tfont-size: 90%;\n",
       "    }\n",
       "/*    .prompt{\n",
       "        display: None;\n",
       "    }*/\n",
       "\t\n",
       "    \n",
       "    .warning{\n",
       "        color: rgb( 240, 20, 20 )\n",
       "        }  \n",
       "</style>\n",
       "<script>\n",
       "    MathJax.Hub.Config({\n",
       "                        TeX: {\n",
       "                           extensions: [\"AMSmath.js\"], \n",
       "                           equationNumbers: { autoNumber: \"AMS\", useLabelIds: true}\n",
       "                           },\n",
       "                tex2jax: {\n",
       "                    inlineMath: [ ['$','$'], [\"\\\\(\",\"\\\\)\"] ],\n",
       "                    displayMath: [ ['$$','$$'], [\"\\\\[\",\"\\\\]\"] ]\n",
       "                },\n",
       "                displayAlign: 'center', // Change this to 'center' to center equations.\n",
       "                \"HTML-CSS\": {\n",
       "                    styles: {'.MathJax_Display': {\"margin\": 4}}\n",
       "                }\n",
       "        });\n",
       "</script>\n"
      ],
      "text/plain": [
       "<IPython.core.display.HTML object>"
      ]
     },
     "execution_count": 1,
     "metadata": {},
     "output_type": "execute_result"
    }
   ],
   "source": [
    "# Execute this cell to load the notebook's style sheet, then ignore it\n",
    "from IPython.core.display import HTML\n",
    "css_file = 'estilo.css'\n",
    "HTML(open(css_file, \"r\").read())"
   ]
  },
  {
   "cell_type": "code",
   "execution_count": null,
   "metadata": {},
   "outputs": [],
   "source": []
  }
 ],
 "metadata": {
  "kernelspec": {
   "display_name": "Python 3 (ipykernel)",
   "language": "python",
   "name": "python3"
  },
  "language_info": {
   "codemirror_mode": {
    "name": "ipython",
    "version": 3
   },
   "file_extension": ".py",
   "mimetype": "text/x-python",
   "name": "python",
   "nbconvert_exporter": "python",
   "pygments_lexer": "ipython3",
   "version": "3.9.6"
  },
  "widgets": {
   "state": {},
   "version": "1.1.2"
  }
 },
 "nbformat": 4,
 "nbformat_minor": 2
}
