{
 "cells": [
  {
   "cell_type": "markdown",
   "metadata": {},
   "source": [
    "# Fundamentos de programación\n",
    "\n",
    "## Arreglos en Numpy\n"
   ]
  },
  {
   "cell_type": "code",
   "execution_count": null,
   "metadata": {},
   "outputs": [],
   "source": [
    "import numpy as np"
   ]
  },
  {
   "cell_type": "code",
   "execution_count": null,
   "metadata": {},
   "outputs": [],
   "source": [
    "KG = np.random.randint(0,30,(20,20))"
   ]
  },
  {
   "cell_type": "markdown",
   "metadata": {},
   "source": [
    "### Ejerecicios para la clase\n",
    "\n",
    "<div class=\"alert alert-success\">\n",
    "    \n",
    "Para la matriz cuadrada $K$ con valores correspondientes a enteros aleatorios escribir programas que realicen las siguientes funciones:\n",
    "\n",
    "(i) Extraer los elementos de una fila $i$.\n",
    "\n",
    "(ii) Extraer los elementos de una columna $i$.\n",
    "\n",
    "(iii) Extraer los elementos de la diagonal.\n",
    "\n",
    "(iv) Identificar el mayor y menor valor y la dirección donde se presentan estos valores.\n",
    "\n",
    "(v) Calcular el producto punto entre 2 vectores fila.\n",
    "\n",
    "(vi) Calcular la transpuesta de la matriz.\n",
    "\n",
    "</div>"
   ]
  },
  {
   "cell_type": "markdown",
   "metadata": {},
   "source": [
    "### Soluciones"
   ]
  },
  {
   "cell_type": "code",
   "execution_count": null,
   "metadata": {},
   "outputs": [],
   "source": [
    "# (i) Extraer los elementos de una fila 𝑖.\n",
    "# Solución 1\n",
    "# De forma explicita explicita\n",
    "#\n",
    "irow = 10\n",
    "fila = np.zeros(20, dtype = int)\n",
    "for i in range(20):\n",
    "    fila[i] = KG[irow, i]\n",
    "fila"
   ]
  },
  {
   "cell_type": "code",
   "execution_count": null,
   "metadata": {},
   "outputs": [],
   "source": [
    "# (i) Extraer los elementos de una fila 𝑖.\n",
    "# Solución 2\n",
    "# Usando abreviación\n",
    "#\n",
    "fila = KG[irow , :]\n",
    "fila"
   ]
  },
  {
   "cell_type": "code",
   "execution_count": null,
   "metadata": {},
   "outputs": [],
   "source": [
    "# (ii) Extraer los elementos de una columna 𝑖.\n",
    "# Usando abreviación\n",
    "#\n",
    "icol = 5\n",
    "columna = KG[: , icol]\n",
    "columna"
   ]
  },
  {
   "cell_type": "code",
   "execution_count": null,
   "metadata": {},
   "outputs": [],
   "source": [
    "# (iii) Extraer los elementos de la diagonal.\n",
    "diag = np.zeros(20, dtype = int)\n",
    "for i in range(20):\n",
    "    diag[i] = KG[i,i]\n",
    "diag"
   ]
  },
  {
   "cell_type": "code",
   "execution_count": null,
   "metadata": {},
   "outputs": [],
   "source": [
    "# (iv) Identificar el mayor y menor valor y\n",
    "# la dirección donde se presentan estos valores.\n",
    "mayor = 0\n",
    "for i in range(20):\n",
    "    for j in range(20):\n",
    "        if KG[i,j] > mayor:\n",
    "            mayor = KG[i,j]\n",
    "            irow = i\n",
    "            icol = j\n",
    "print('Mayor =' , mayor)\n",
    "print('Fila ', irow)\n",
    "print('Columna ', icol)"
   ]
  },
  {
   "cell_type": "code",
   "execution_count": null,
   "metadata": {},
   "outputs": [],
   "source": [
    "# (v) Calcular el producto punto entre 2 vectores fila.\n",
    "#\n",
    "fila1 = np.zeros(20, dtype = int)\n",
    "fila2 = np.zeros(20, dtype = int)\n",
    "ir1 = 5\n",
    "ir2 = 7\n",
    "fila1 = KG[ir1 , :]\n",
    "fila2 = KG[ir2 , :]\n",
    "C = np.dot(fila1 , fila2)\n",
    "C"
   ]
  },
  {
   "cell_type": "code",
   "execution_count": null,
   "metadata": {},
   "outputs": [],
   "source": [
    "# (vi) Calcular la transpuesta de la matriz.\n",
    "# De forma explicita\n",
    "KGT = np.zeros((20,20), dtype = int)\n",
    "for i in range(20):\n",
    "    for j in range(20):\n",
    "        KGT[j , i] = KG[i , j]\n",
    "print(KGT)"
   ]
  },
  {
   "cell_type": "code",
   "execution_count": null,
   "metadata": {},
   "outputs": [],
   "source": [
    "# (vi) Calcular la transpuesta de la matriz.\n",
    "# Usando Python\n",
    "KGT = np.transpose(KG)\n",
    "KGT"
   ]
  },
  {
   "cell_type": "markdown",
   "metadata": {},
   "source": [
    "<div class=\"alert alert-success\">\n",
    "    \n",
    "Para cada uno de los siguientes problemas diseñar los respectivos pseudo-códigos y su correspondiente implementación en Python:\n",
    "    \n",
    "* Calcular la suma de todos los elementos de un vector de orden $n$ y que almacena valores enteros.\n",
    "\n",
    "* Calcular la suma de los elementos de un vector de orden $n$ y que almacena valores enteros y que además se detiene si la suma se hace mayor o igual a un valor de referencia.\n",
    "\n",
    "* Calcular el valor mínimo de un vector de orden $n$ que almacena valores enteros y que además indique la posición en la que se presenta el valor mínimo.\n",
    "\n",
    "* Calcular el producto entre una matriz $A$ de orden $n \\times m$ y una matriz $B$ de orden $m \\times k$.\n",
    "\n",
    "</div>"
   ]
  },
  {
   "cell_type": "markdown",
   "metadata": {},
   "source": [
    "### Soluciones"
   ]
  },
  {
   "cell_type": "code",
   "execution_count": null,
   "metadata": {},
   "outputs": [],
   "source": [
    "V = np.random.randint(0,30,10)"
   ]
  },
  {
   "cell_type": "code",
   "execution_count": null,
   "metadata": {},
   "outputs": [],
   "source": [
    "# Calcular la suma de todos los elementos de un vector de orden $n$\n",
    "# y que almacena valores enteros.\n",
    "suma = 0\n",
    "for i in range(10):\n",
    "    suma = suma + V[i]\n",
    "suma"
   ]
  },
  {
   "cell_type": "code",
   "execution_count": null,
   "metadata": {},
   "outputs": [],
   "source": [
    "#Calcular la suma de los elementos de un vector de orden $n$ y que almacena valores enteros y que además se detiene si la suma se hace mayor o igual\n",
    "# a un valor de referencia.\n",
    "suma = 0\n",
    "val = 60\n",
    "i = 0\n",
    "iflag = 0\n",
    "while iflag == 0:\n",
    "    suma = suma + V[i]\n",
    "    if suma > val or i == 10:\n",
    "        iflag = 1\n",
    "    else:\n",
    "        i = i + 1\n",
    "print('Suma =' , suma)\n",
    "print('Indice' , i)"
   ]
  },
  {
   "cell_type": "code",
   "execution_count": null,
   "metadata": {},
   "outputs": [],
   "source": [
    "# Calcular el valor mínimo de un vector de orden $n$\n",
    "# que almacena valores enteros y que además indique la\n",
    "# posición en la que se presenta el valor mínimo.\n",
    "menor = V[0]\n",
    "for i in range(1, 10):\n",
    "    if V[i] < menor:\n",
    "        menor = V[i]\n",
    "        ipos = i\n",
    "menor"
   ]
  },
  {
   "cell_type": "code",
   "execution_count": null,
   "metadata": {},
   "outputs": [],
   "source": [
    "# * Calcular el producto entre una matriz $A$ de orden $n \\times m$\n",
    "# y una matriz $B$ de orden $m \\times k$.\n",
    "#\n",
    "A = np.random.randint(0,30,(5 , 8))\n",
    "B = np.random.randint(0,30,(8 , 10))\n",
    "C = np.zeros((5,10), dtype = int)\n",
    "#\n",
    "# Explicitamente\n",
    "#\n",
    "fila = np.zeros(8, dtype = int)\n",
    "colu = np.zeros(8, dtype = int)\n",
    "for i in range(5):\n",
    "    fila = A[i, :]\n",
    "    for j in range(10):\n",
    "        colu = B[:, j]\n",
    "        C[i,j] = np.dot(fila , colu)\n",
    "print(C)"
   ]
  },
  {
   "cell_type": "code",
   "execution_count": null,
   "metadata": {},
   "outputs": [],
   "source": [
    "# Usando Python\n",
    "C = np.dot(A , B)\n",
    "print(C)"
   ]
  },
  {
   "cell_type": "code",
   "execution_count": null,
   "metadata": {},
   "outputs": [],
   "source": [
    "# Execute this cell to load the notebook's style sheet, then ignore it\n",
    "from IPython.core.display import HTML\n",
    "css_file = 'estilo.css'\n",
    "HTML(open(css_file, \"r\").read())"
   ]
  },
  {
   "cell_type": "code",
   "execution_count": null,
   "metadata": {},
   "outputs": [],
   "source": []
  }
 ],
 "metadata": {
  "kernelspec": {
   "display_name": "Python 3",
   "language": "python",
   "name": "python3"
  },
  "language_info": {
   "codemirror_mode": {
    "name": "ipython",
    "version": 3
   },
   "file_extension": ".py",
   "mimetype": "text/x-python",
   "name": "python",
   "nbconvert_exporter": "python",
   "pygments_lexer": "ipython3",
   "version": "3.7.1"
  },
  "widgets": {
   "state": {},
   "version": "1.1.2"
  }
 },
 "nbformat": 4,
 "nbformat_minor": 2
}
