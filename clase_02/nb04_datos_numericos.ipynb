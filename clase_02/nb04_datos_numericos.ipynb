{
 "cells": [
  {
   "cell_type": "markdown",
   "metadata": {},
   "source": [
    "# Fundamentos de programación\n",
    "\n",
    "## Datos de tipo numérico\n",
    "\n",
    "En Python existen los siguientes datos de tipo numérico:\n",
    "\n",
    "* Enteros (int): Cualquier numero positivo o negativo solo con parte entera.\n",
    "\n",
    "* Punto flotante (float): Cualquier numero real positivo o negativo.\n",
    "\n",
    "* Complejos (complex): Numero con parte real e imaginaria donde la unidad imaginaria corresponde a $i = \\sqrt(-1)$. (En Python se usa $j$)"
   ]
  },
  {
   "cell_type": "code",
   "execution_count": 1,
   "metadata": {},
   "outputs": [
    {
     "data": {
      "text/plain": [
       "int"
      ]
     },
     "execution_count": 1,
     "metadata": {},
     "output_type": "execute_result"
    }
   ],
   "source": [
    "A = 5\n",
    "type(A)"
   ]
  },
  {
   "cell_type": "code",
   "execution_count": 2,
   "metadata": {},
   "outputs": [
    {
     "data": {
      "text/plain": [
       "float"
      ]
     },
     "execution_count": 2,
     "metadata": {},
     "output_type": "execute_result"
    }
   ],
   "source": [
    "B = 5.0\n",
    "type(B)"
   ]
  },
  {
   "cell_type": "code",
   "execution_count": 3,
   "metadata": {},
   "outputs": [
    {
     "data": {
      "text/plain": [
       "complex"
      ]
     },
     "execution_count": 3,
     "metadata": {},
     "output_type": "execute_result"
    }
   ],
   "source": [
    "C = 1.0+2.0j\n",
    "type(C)"
   ]
  },
  {
   "cell_type": "markdown",
   "metadata": {},
   "source": [
    "## Operaciones aritmeticas\n",
    "\n",
    "**Adición (+)**\n",
    "\n",
    "<div class=\"alert alert-warning\">\n",
    "    \n",
    "Realice las siguientes operaciones en una consola de Python. En cada caso identifique el tipo de dato de cada operando y el tipo asociado con el resultado.\n",
    "\n",
    "$$8.0 + 1.0$$\n",
    "\n",
    "$$8 + 1$$\n",
    "\n",
    "$$8.0 + 1$$\n",
    "\n",
    "$$1.1 + 2.2$$\n",
    "\n",
    "$$8i + 5$$\n",
    "\n",
    "$$8.0i + 5.0$$\n",
    "\n",
    "$$8 + 5i$$\n",
    "\n",
    "</div>\n",
    "\n"
   ]
  },
  {
   "cell_type": "code",
   "execution_count": null,
   "metadata": {},
   "outputs": [],
   "source": []
  },
  {
   "cell_type": "markdown",
   "metadata": {},
   "source": [
    "**Substracción (-)**\n",
    "\n",
    "<div class=\"alert alert-warning\">\n",
    "    \n",
    "Realice las siguientes operaciones en una consola de Python. En cada caso identifique el tipo de dato de cada operando y el tipo asociado con el resultado.\n",
    "\n",
    "$$8.0 - 1.0$$\n",
    "\n",
    "$$8 - 1$$\n",
    "\n",
    "$$8.0 - 1$$\n",
    "\n",
    "$$8i - 5$$\n",
    "\n",
    "$$8.0i - 5.0$$\n",
    "\n",
    "$$8 - 5i$$\n",
    "\n",
    "\n",
    "</div>"
   ]
  },
  {
   "cell_type": "code",
   "execution_count": null,
   "metadata": {},
   "outputs": [],
   "source": []
  },
  {
   "cell_type": "markdown",
   "metadata": {},
   "source": [
    "**Multiplicación (*)**\n",
    "\n",
    "<div class=\"alert alert-warning\">\n",
    "    \n",
    "Realice las siguientes operaciones en una consola de Python. En cada caso identifique el tipo de dato de cada operando y el tipo asociado con el resultado.\n",
    "\n",
    "$$8.0 \\times 1.0$$\n",
    "\n",
    "$$8 \\times 1$$\n",
    "\n",
    "$$8.0 \\times 1$$\n",
    "\n",
    "$$8.0i \\times 1$$\n",
    "\n",
    "\n",
    "\n",
    "</div>"
   ]
  },
  {
   "cell_type": "code",
   "execution_count": null,
   "metadata": {},
   "outputs": [],
   "source": []
  },
  {
   "cell_type": "markdown",
   "metadata": {},
   "source": [
    "**División (/)**\n",
    "\n",
    "<div class=\"alert alert-warning\">\n",
    "    \n",
    "Realice las siguientes operaciones en una consola de Python. En cada caso identifique el tipo de dato de cada operando y el tipo asociado con el resultado.\n",
    "\n",
    "$$8.0 \\div 1.0$$\n",
    "\n",
    "$$8 \\div 1$$\n",
    "\n",
    "$$8.0 \\div 1$$\n",
    "\n",
    "$$8.0i \\div 1$$\n",
    "\n",
    "$$(8+2i) \\div (4 + 3i)$$\n",
    "\n",
    "\n",
    "</div>"
   ]
  },
  {
   "cell_type": "code",
   "execution_count": null,
   "metadata": {},
   "outputs": [],
   "source": []
  },
  {
   "cell_type": "markdown",
   "metadata": {},
   "source": [
    "**Modulo (%):** Calcula el residuo de la división $A \\div B$ (Útil para verificar condiciones de divisibilidad)\n",
    "\n",
    "<div class=\"alert alert-warning\">\n",
    "    \n",
    "Realice las siguientes operaciones en una consola de Python. En cada caso identifique el tipo de dato de cada operando y el tipo asociado con el resultado.\n",
    "\n",
    "$$8.0 \\% 2.0$$\n",
    "\n",
    "$$8 \\% 3$$\n",
    "\n",
    "$$5.0 \\% 2$$\n",
    "\n",
    "$$8.0i \\% 1$$\n",
    "\n",
    "\n",
    "</div>"
   ]
  },
  {
   "cell_type": "code",
   "execution_count": null,
   "metadata": {},
   "outputs": [],
   "source": []
  },
  {
   "cell_type": "markdown",
   "metadata": {},
   "source": [
    "**Floor division (//):** Redondea el resultado al entero inferior mas cercano\n",
    "\n",
    "<div class=\"alert alert-warning\">\n",
    "    \n",
    "Realice las siguientes operaciones en una consola de Python. En cada caso identifique el tipo de dato de cada operando y el tipo asociado con el resultado.\n",
    "\n",
    "$$8.0 // 2.0$$\n",
    "\n",
    "$$8 // 3$$\n",
    "\n",
    "$$5.0 //2$$\n",
    "\n",
    "$$8.0i // 1$$\n"
   ]
  },
  {
   "cell_type": "code",
   "execution_count": null,
   "metadata": {},
   "outputs": [],
   "source": []
  },
  {
   "cell_type": "markdown",
   "metadata": {},
   "source": [
    "**Potenciación (y radicación)**\n",
    "\n",
    "<div class=\"alert alert-warning\">\n",
    "    \n",
    "Realice las siguientes operaciones en una consola de Python. En cada caso identifique el tipo de dato de cada operando y el tipo asociado con el resultado.\n",
    "\n",
    "$$8.0 ^ 2$$\n",
    "\n",
    "$$8^ 2$$\n",
    "\n",
    "$$8 ^ {2/3}$$\n",
    "\n",
    "$$8 ^ {-2/3}$$\n"
   ]
  },
  {
   "cell_type": "code",
   "execution_count": null,
   "metadata": {},
   "outputs": [],
   "source": []
  },
  {
   "cell_type": "markdown",
   "metadata": {},
   "source": [
    "### Algunos comandos útiles\n",
    "\n",
    "`type()`: Determina el tipo de dato\n",
    "\n",
    "`isinstance()`: Indica si el tipo de dato es como se especifica"
   ]
  },
  {
   "cell_type": "code",
   "execution_count": 4,
   "metadata": {},
   "outputs": [
    {
     "data": {
      "text/plain": [
       "complex"
      ]
     },
     "execution_count": 4,
     "metadata": {},
     "output_type": "execute_result"
    }
   ],
   "source": [
    "type(3+5j)"
   ]
  },
  {
   "cell_type": "code",
   "execution_count": 5,
   "metadata": {},
   "outputs": [
    {
     "data": {
      "text/plain": [
       "False"
      ]
     },
     "execution_count": 5,
     "metadata": {},
     "output_type": "execute_result"
    }
   ],
   "source": [
    "isinstance(5+3j , int)"
   ]
  },
  {
   "cell_type": "markdown",
   "metadata": {},
   "source": [
    "Es posible convertir datos de un tipo a otro. Por ejemplo para convertir el entero 3 a punto flotante (real) usamos:"
   ]
  },
  {
   "cell_type": "code",
   "execution_count": 6,
   "metadata": {},
   "outputs": [
    {
     "data": {
      "text/plain": [
       "3.0"
      ]
     },
     "execution_count": 6,
     "metadata": {},
     "output_type": "execute_result"
    }
   ],
   "source": [
    "float(3)"
   ]
  },
  {
   "cell_type": "markdown",
   "metadata": {},
   "source": [
    "Similarmente:"
   ]
  },
  {
   "cell_type": "code",
   "execution_count": 7,
   "metadata": {},
   "outputs": [
    {
     "data": {
      "text/plain": [
       "3"
      ]
     },
     "execution_count": 7,
     "metadata": {},
     "output_type": "execute_result"
    }
   ],
   "source": [
    "int(3.0)"
   ]
  },
  {
   "cell_type": "code",
   "execution_count": 8,
   "metadata": {},
   "outputs": [
    {
     "data": {
      "text/plain": [
       "(3+5j)"
      ]
     },
     "execution_count": 8,
     "metadata": {},
     "output_type": "execute_result"
    }
   ],
   "source": [
    "complex('3+5j')"
   ]
  },
  {
   "cell_type": "code",
   "execution_count": 9,
   "metadata": {},
   "outputs": [
    {
     "data": {
      "text/plain": [
       "(3+0j)"
      ]
     },
     "execution_count": 9,
     "metadata": {},
     "output_type": "execute_result"
    }
   ],
   "source": [
    "complex(3)"
   ]
  },
  {
   "cell_type": "markdown",
   "metadata": {},
   "source": [
    "## Expresiones\n",
    "\n",
    "En computación una expresión corresponde a una secuencia de operadores y operandos como:\n",
    "\n",
    "\n",
    "$$a+b-10.$$\n",
    "\n",
    "\n",
    "### Constantes y variables\n",
    "\n",
    "En las expresiones los operandos pueden ser constantes y/o variables:\n",
    "\n",
    "**Constantes:** Valores que no cambian durante la ejecución del programa.\n",
    "\n",
    "**Variables:**  Valores que pueden cambiar durante la ejecución del programa.\n",
    "\n",
    "Una variable tiene los siguientes atributos:\n",
    "\n",
    "> Nombre de la variable (usar nombres nemotecnicos que hagan referencia al siginificado del dato a almacenar y al tipo de dato).\n",
    "\n",
    ">Tipo de dato almacenado en la variable.\n",
    "\n",
    "<div class=\"alert alert-warning\">\n",
    "    \n",
    "Cree variables para almacenar los siguientes datos:\n",
    "\n",
    "* Resistencia a compresión del concreto.\n",
    "\n",
    "* Resistencia a tracción del concreto.\n",
    "\n",
    "* Resistencia al corte del concreto.\n",
    "\n",
    "* Caudal máximo de un vertedero.\n",
    "\n",
    "* Máximo numero de grados de libertad de un sistema de masas-resortes.\n",
    "\n",
    "* Temperatura ambiente.\n",
    "\n",
    "* Altura máxima de un puente."
   ]
  },
  {
   "cell_type": "code",
   "execution_count": null,
   "metadata": {},
   "outputs": [],
   "source": []
  },
  {
   "cell_type": "markdown",
   "metadata": {},
   "source": [
    "<div class=\"alert alert-warning\">\n",
    "    \n",
    "Escribir un programa simple que realice los siguientes pasos:\n",
    "\n",
    "* Asignar el valor $4.0$ a la variable $x$.\n",
    "\n",
    "* Asignar el valor $3.0$ a la variable $y$\n",
    "\n",
    "* Calcular el resultado de $x^2 + y^ 2$"
   ]
  },
  {
   "cell_type": "code",
   "execution_count": null,
   "metadata": {},
   "outputs": [],
   "source": []
  },
  {
   "cell_type": "markdown",
   "metadata": {},
   "source": [
    "### Precedencia de los operadores\n",
    "\n",
    "Los operadores aritméticos satisfacen las siguientes reglas de precedencia:\n",
    "\n",
    "* Potenciación (**)\n",
    "\n",
    "* Multiplicación (*), división (/), divisón entera (//), modulo(%), \n",
    "\n",
    "* Adición(substracción) (+ , -)\n",
    "\n",
    "<div class=\"alert alert-warning\">\n",
    "    \n",
    "Evalue el resultado de las siguientes expresiones y verifique sus resultados en el computador:\n",
    "\n",
    "* $$7 + 3 \\times 2$$\n",
    "\n",
    "\n",
    "* $$ x^3+4x^2-10$$\n",
    "\n",
    "\n",
    "* $$2^{2/12}$$\n",
    "\n",
    "\n",
    "* Escriba un programa para determinar la solución de la ecuación:\n",
    "\n",
    "$$ax^2+bx+c=0$$\n",
    "\n",
    "* Escriba un programa para determinar la tensión radial experimentada por una tubería circular de radio interno $a$, radio externo $b$ y sometida a presiones interna y externa $p_a$ y $p_b$ respectivamente y dada por:\n",
    "\n",
    "$$\\sigma_{rr}=-\\frac1{K_1}\\left(\\frac{b^2}{r^2}-1\\right)\\rho_a-\\frac1{K_2}\\left(1-\\frac{a^2}{r^2}\\right)\\rho_b$$\n"
   ]
  },
  {
   "cell_type": "code",
   "execution_count": null,
   "metadata": {},
   "outputs": [],
   "source": []
  },
  {
   "cell_type": "code",
   "execution_count": 10,
   "metadata": {},
   "outputs": [
    {
     "data": {
      "text/html": [
       "<link href=\"https://fonts.googleapis.com/css?family=Merriweather:300,300i,400,400i,700,700i,900,900i\" rel='stylesheet' >\n",
       "<link href=\"https://fonts.googleapis.com/css?family=Source+Sans+Pro:300,300i,400,400i,700,700i\" rel='stylesheet' >\n",
       "<link href='http://fonts.googleapis.com/css?family=Source+Code+Pro:300,400' rel='stylesheet' >\n",
       "<style>\n",
       "\n",
       "@font-face {\n",
       "    font-family: \"Computer Modern\";\n",
       "    src: url('http://mirrors.ctan.org/fonts/cm-unicode/fonts/otf/cmunss.otf');\n",
       "}\n",
       "\n",
       "\n",
       "#notebook_panel { /* main background */\n",
       "    background: rgb(245,245,245);\n",
       "}\n",
       "\n",
       "div.cell { /* set cell width */\n",
       "    width: 800px;\n",
       "}\n",
       "\n",
       "div #notebook { /* centre the content */\n",
       "    background: #fff; /* white background for content */\n",
       "    width: 1000px;\n",
       "    margin: auto;\n",
       "    padding-left: 0em;\n",
       "}\n",
       "\n",
       "#notebook li { /* More space between bullet points */\n",
       "margin-top:0.5em;\n",
       "}\n",
       "\n",
       "/* draw border around running cells */\n",
       "div.cell.border-box-sizing.code_cell.running { \n",
       "    border: 1px solid #111;\n",
       "}\n",
       "\n",
       "/* Put a solid color box around each cell and its output, visually linking them*/\n",
       "div.cell.code_cell {\n",
       "    background-color: rgb(256,256,256); \n",
       "    border-radius: 0px; \n",
       "    padding: 0.5em;\n",
       "    margin-left:1em;\n",
       "    margin-top: 1em;\n",
       "}\n",
       "\n",
       "\n",
       "div.text_cell_render{\n",
       "    font-family: 'Source Sans Pro', sans-serif;\n",
       "    line-height: 140%;\n",
       "    font-size: 110%;\n",
       "    width:680px;\n",
       "    margin-left:auto;\n",
       "    margin-right:auto;\n",
       "}\n",
       "\n",
       "/* Formatting for header cells */\n",
       ".text_cell_render h1 {\n",
       "    font-family: 'Merriweather', serif;\n",
       "    font-style:regular;\n",
       "    font-weight: bold;    \n",
       "    font-size: 250%;\n",
       "    line-height: 100%;\n",
       "    color: #004065;\n",
       "    margin-bottom: 1em;\n",
       "    margin-top: 0.5em;\n",
       "    display: block;\n",
       "}\t\n",
       ".text_cell_render h2 {\n",
       "    font-family: 'Merriweather', serif;\n",
       "    font-weight: bold; \n",
       "    font-size: 180%;\n",
       "    line-height: 100%;\n",
       "    color: #0096d6;\n",
       "    margin-bottom: 0.5em;\n",
       "    margin-top: 0.5em;\n",
       "    display: block;\n",
       "}\t\n",
       "\n",
       ".text_cell_render h3 {\n",
       "    font-family: 'Merriweather', serif;\n",
       "\tfont-size: 150%;\n",
       "    margin-top:12px;\n",
       "    margin-bottom: 3px;\n",
       "    font-style: regular;\n",
       "    color: #008367;\n",
       "}\n",
       "\n",
       ".text_cell_render h4 {    /*Use this for captions*/\n",
       "    font-family: 'Merriweather', serif;\n",
       "    font-weight: 300; \n",
       "    font-size: 100%;\n",
       "    line-height: 120%;\n",
       "    text-align: left;\n",
       "    width:500px;\n",
       "    margin-top: 1em;\n",
       "    margin-bottom: 2em;\n",
       "    margin-left: 80pt;\n",
       "    font-style: regular;\n",
       "}\n",
       "\n",
       ".text_cell_render h5 {  /*Use this for small titles*/\n",
       "    font-family: 'Source Sans Pro', sans-serif;\n",
       "    font-weight: regular;\n",
       "    font-size: 130%;\n",
       "    color: #e31937;\n",
       "    font-style: italic;\n",
       "    margin-bottom: .5em;\n",
       "    margin-top: 1em;\n",
       "    display: block;\n",
       "}\n",
       "\n",
       ".text_cell_render h6 { /*use this for copyright note*/\n",
       "    font-family: 'Source Code Pro', sans-serif;\n",
       "    font-weight: 300;\n",
       "    font-size: 9pt;\n",
       "    line-height: 100%;\n",
       "    color: grey;\n",
       "    margin-bottom: 1px;\n",
       "    margin-top: 1px;\n",
       "}\n",
       "\n",
       "    .CodeMirror{\n",
       "            font-family: \"Source Code Pro\";\n",
       "\t\t\tfont-size: 90%;\n",
       "    }\n",
       "/*    .prompt{\n",
       "        display: None;\n",
       "    }*/\n",
       "\t\n",
       "    \n",
       "    .warning{\n",
       "        color: rgb( 240, 20, 20 )\n",
       "        }  \n",
       "</style>\n",
       "<script>\n",
       "    MathJax.Hub.Config({\n",
       "                        TeX: {\n",
       "                           extensions: [\"AMSmath.js\"], \n",
       "                           equationNumbers: { autoNumber: \"AMS\", useLabelIds: true}\n",
       "                           },\n",
       "                tex2jax: {\n",
       "                    inlineMath: [ ['$','$'], [\"\\\\(\",\"\\\\)\"] ],\n",
       "                    displayMath: [ ['$$','$$'], [\"\\\\[\",\"\\\\]\"] ]\n",
       "                },\n",
       "                displayAlign: 'center', // Change this to 'center' to center equations.\n",
       "                \"HTML-CSS\": {\n",
       "                    styles: {'.MathJax_Display': {\"margin\": 4}}\n",
       "                }\n",
       "        });\n",
       "</script>\n"
      ],
      "text/plain": [
       "<IPython.core.display.HTML object>"
      ]
     },
     "execution_count": 10,
     "metadata": {},
     "output_type": "execute_result"
    }
   ],
   "source": [
    "from IPython.core.display import HTML\n",
    "css_file = 'estilo.css'\n",
    "HTML(open(css_file, \"r\").read())"
   ]
  }
 ],
 "metadata": {
  "kernelspec": {
   "display_name": "Python 3",
   "language": "python",
   "name": "python3"
  },
  "language_info": {
   "codemirror_mode": {
    "name": "ipython",
    "version": 3
   },
   "file_extension": ".py",
   "mimetype": "text/x-python",
   "name": "python",
   "nbconvert_exporter": "python",
   "pygments_lexer": "ipython3",
   "version": "3.7.1"
  }
 },
 "nbformat": 4,
 "nbformat_minor": 2
}
